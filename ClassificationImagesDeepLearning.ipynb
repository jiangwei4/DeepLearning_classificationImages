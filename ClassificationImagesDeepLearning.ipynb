{
 "cells": [
  {
   "cell_type": "code",
   "execution_count": 3,
   "metadata": {},
   "outputs": [],
   "source": [
    "import numpy as np\n",
    "import matplotlib.pyplot as plt\n",
    "import pandas as pd\n",
    "import tensorflow as tf\n",
    "import pathlib\n",
    "import scipy.io as sio\n",
    "from os.path import dirname, join as pjoin\n",
    "import os\n",
    "from shutil import copyfile\n",
    "from sklearn.model_selection import train_test_split\n",
    "import imageio\n",
    "from PIL import Image\n",
    "from random import randint\n",
    "import scipy"
   ]
  },
  {
   "cell_type": "code",
   "execution_count": 4,
   "metadata": {},
   "outputs": [],
   "source": [
    "import tensorflow_docs as tfdocs\n",
    "import tensorflow_docs.plots\n",
    "import tensorflow_docs.modeling"
   ]
  },
  {
   "cell_type": "code",
   "execution_count": 5,
   "metadata": {},
   "outputs": [],
   "source": [
    "from whitening import whiten\n",
    "import matplotlib.image as mpimg\n",
    "import PIL.Image\n",
    "import cv2\n",
    "from skimage import io, color\n",
    "from resizeimage import resizeimage\n",
    "from tqdm.auto import tqdm"
   ]
  },
  {
   "cell_type": "code",
   "execution_count": null,
   "metadata": {},
   "outputs": [],
   "source": [
    "print(tf.__version__)"
   ]
  },
  {
   "cell_type": "code",
   "execution_count": null,
   "metadata": {},
   "outputs": [],
   "source": [
    "print(\"Num GPUs Available: \", len(tf.config.experimental.list_physical_devices('GPU')))\n",
    "mirrored_strategy = tf.distribute.MirroredStrategy()"
   ]
  },
  {
   "cell_type": "code",
   "execution_count": null,
   "metadata": {},
   "outputs": [],
   "source": [
    "nombre_image_train = 0 #16417\n",
    "nombre_image_test = 0 #4162"
   ]
  },
  {
   "cell_type": "code",
   "execution_count": null,
   "metadata": {},
   "outputs": [],
   "source": [
    "if os.path.exists(pathlib.Path().joinpath('Images//n02105855-Shetland_sheepdog//n02105855_2933.jpg')):\n",
    "    os.remove(pathlib.Path().joinpath('Images//n02105855-Shetland_sheepdog//n02105855_2933.jpg')) "
   ]
  },
  {
   "cell_type": "markdown",
   "metadata": {},
   "source": [
    "# Creation des dossiers images du train et du set"
   ]
  },
  {
   "cell_type": "code",
   "execution_count": null,
   "metadata": {},
   "outputs": [],
   "source": [
    "if not os.path.exists('train'):\n",
    "    os.makedirs('train')\n",
    "if not os.path.exists('test'):\n",
    "    os.makedirs('test')\n",
    "\n",
    "\n",
    "for repertoir in os.listdir('Images'):\n",
    "    if not os.path.exists('train/'+repertoir):\n",
    "        os.makedirs('train/'+repertoir)\n",
    "    if not os.path.exists('test/'+repertoir):\n",
    "        os.makedirs('test/'+repertoir)\n",
    "\n",
    "    tmp_data = os.listdir(pathlib.Path().joinpath('Images/'+repertoir).absolute())\n",
    "    x_train, x_test = train_test_split(tmp_data, test_size = 0.2)\n",
    "\n",
    "    for img1 in x_train:\n",
    "        nombre_image_train = nombre_image_train + 1\n",
    "        copyfile(pathlib.Path().joinpath('Images/'+repertoir+'/'+img1).absolute(), pathlib.Path().joinpath('train/'+repertoir+'/'+img1).absolute())\n",
    "\n",
    "    for img2 in x_test:\n",
    "        nombre_image_test = nombre_image_test + 1\n",
    "        copyfile(pathlib.Path().joinpath('Images/'+repertoir+'/'+img2).absolute(), pathlib.Path().joinpath('test/'+repertoir+'/'+img2).absolute())\n"
   ]
  },
  {
   "cell_type": "code",
   "execution_count": null,
   "metadata": {},
   "outputs": [],
   "source": [
    "nombre_image_train = 16417\n",
    "nombre_image_test = 4162"
   ]
  },
  {
   "cell_type": "markdown",
   "metadata": {},
   "source": [
    "# Traitement des images"
   ]
  },
  {
   "cell_type": "markdown",
   "metadata": {},
   "source": [
    "## Resize"
   ]
  },
  {
   "cell_type": "code",
   "execution_count": null,
   "metadata": {},
   "outputs": [],
   "source": [
    "directory_train = 'test/' \n",
    "pbar = tqdm(total=1)\n",
    "for subdir, dirs, files in os.walk(directory_train):\n",
    "    for file in files:\n",
    "        img = os.path.join(subdir, file)\n",
    "        with open(img, 'r+b') as f:\n",
    "            with Image.open(f) as image:\n",
    "                if(image.size > (150,150,3)):\n",
    "                    cover = resizeimage.resize_cover(image, (150, 150))\n",
    "                    cover.save(img, image.format)\n",
    "                pbar.update(1/nombre_image_test)\n",
    "pbar.close()\n",
    "                \n",
    "directory_train = 'train/'  \n",
    "pbar = tqdm(total=1)\n",
    "for subdir, dirs, files in os.walk(directory_train):\n",
    "    for file in files:\n",
    "        img = os.path.join(subdir, file)\n",
    "        with open(img, 'r+b') as f:\n",
    "            with Image.open(f) as image:\n",
    "                if(image.size > (150,150,3)):\n",
    "                    cover = resizeimage.resize_cover(image, (150, 150))\n",
    "                    cover.save(img, image.format)\n",
    "                pbar.update(1/nombre_image_train)\n",
    "pbar.close()"
   ]
  },
  {
   "cell_type": "markdown",
   "metadata": {},
   "source": [
    "## Whitening"
   ]
  },
  {
   "cell_type": "code",
   "execution_count": null,
   "metadata": {},
   "outputs": [],
   "source": [
    "def whitening(img):\n",
    "    image = PIL.Image.open(img)\n",
    "    foreground, background = whiten(image, kernel_size=20, downsample=4)\n",
    "    foreground.save(img, 'jpeg')\n",
    "                                    \n",
    "# image = plt.show('Images/n02085620-Chihuahua/'+tmp_data[0])\n",
    "# foreground, background = whiten(image, kernel_size=20, downsample=4)\n",
    "# foreground.save('foreground.jpg', 'jpeg')\n",
    "\n",
    "# On s'occupe des images dans train  \n",
    "directory_train = 'train/' \n",
    "pbar = tqdm(total=1)\n",
    "for subdir, dirs, files in os.walk(directory_train):\n",
    "    for file in files:\n",
    "        a = os.path.join(subdir, file)\n",
    "        whitening(a)\n",
    "        pbar.update(1/nombre_image_train)\n",
    "pbar.close()\n",
    "    \n",
    "# On s'occupe des images dans test\n",
    "directory_test= 'test/'\n",
    "pbar = tqdm(total=1)\n",
    "for subdir, dirs, files in os.walk(directory_test):\n",
    "    for file in files:\n",
    "        a = os.path.join(subdir, file)\n",
    "        whitening(a)\n",
    "        pbar.update(1/nombre_image_test)\n",
    "pbar.close()"
   ]
  },
  {
   "cell_type": "markdown",
   "metadata": {},
   "source": [
    "## Equalization"
   ]
  },
  {
   "cell_type": "code",
   "execution_count": null,
   "metadata": {},
   "outputs": [],
   "source": [
    "def equalization(image):\n",
    "    img = cv2.imread(image)\n",
    "    img_to_yuv = cv2.cvtColor(img,cv2.COLOR_BGR2YUV)\n",
    "    img_to_yuv[:,:,0] = cv2.equalizeHist(img_to_yuv[:,:,0])\n",
    "    hist_equalization_result = cv2.cvtColor(img_to_yuv, cv2.COLOR_YUV2BGR)\n",
    "    cv2.imwrite(image,hist_equalization_result)\n",
    "    \n",
    "    \n",
    "directory_train = 'train/'\n",
    "pbar = tqdm(total=1)\n",
    "for subdir, dirs, files in os.walk(directory_train):\n",
    "    for file in files:\n",
    "        a = os.path.join(subdir, file)\n",
    "        equalization(a)\n",
    "        pbar.update(1/nombre_image_train)\n",
    "pbar.close()\n",
    "\n",
    "directory_train = 'test/'\n",
    "pbar = tqdm(total=1)\n",
    "for subdir, dirs, files in os.walk(directory_train):\n",
    "    for file in files:\n",
    "        a = os.path.join(subdir, file)\n",
    "        equalization(a)\n",
    "        pbar.update(1/nombre_image_test)\n",
    "pbar.close()"
   ]
  },
  {
   "cell_type": "markdown",
   "metadata": {},
   "source": [
    "# Augmention du train"
   ]
  },
  {
   "cell_type": "code",
   "execution_count": null,
   "metadata": {},
   "outputs": [],
   "source": [
    "def reName(imgName, endString, idString):\n",
    "    index = imgName.find(endString)\n",
    "    if index != -1 :\n",
    "        newImageName = imgName[0:(index-1)]\n",
    "        newImageName = newImageName + idString + endString\n",
    "        return newImageName\n",
    "    else:\n",
    "        return imgName"
   ]
  },
  {
   "cell_type": "markdown",
   "metadata": {},
   "source": [
    "## Mirroring"
   ]
  },
  {
   "cell_type": "code",
   "execution_count": null,
   "metadata": {},
   "outputs": [],
   "source": [
    "def mirror(img):\n",
    "    image = cv2.imread(img)\n",
    "    mirrorImage = cv2.flip(image, 1)\n",
    "    newImgName = reName(img, '.jpg', '_m')\n",
    "    mirrorImage = Image.fromarray(mirrorImage)\n",
    "    mirrorImage.save(newImgName , 'jpeg')"
   ]
  },
  {
   "cell_type": "markdown",
   "metadata": {},
   "source": [
    "## Cropping"
   ]
  },
  {
   "cell_type": "code",
   "execution_count": null,
   "metadata": {},
   "outputs": [],
   "source": [
    "def zoom(img):\n",
    "    image = cv2.imread(img)\n",
    "    h, w = image.shape[:2]\n",
    "    zoomImg = image[h//8 : -h//8,w//8 : -w//8]\n",
    "    newImgName = reName(img, '.jpg', '_z')\n",
    "    zoomImg = Image.fromarray(zoomImg)\n",
    "    zoomImg.save(newImgName , 'jpeg')"
   ]
  },
  {
   "cell_type": "markdown",
   "metadata": {},
   "source": [
    "## Rotate"
   ]
  },
  {
   "cell_type": "code",
   "execution_count": null,
   "metadata": {},
   "outputs": [],
   "source": [
    "def rotate(img):\n",
    "    value = randint(-90, 90)\n",
    "    image = Image.open(img)\n",
    "    image = image.rotate(value)\n",
    "    newImgName = reName(img, '.jpg', '_r')\n",
    "    image.save(newImgName , 'jpeg')"
   ]
  },
  {
   "cell_type": "code",
   "execution_count": null,
   "metadata": {},
   "outputs": [],
   "source": [
    "# On s'occupe des images dans train    \n",
    "directory_train = 'train/' \n",
    "pbar = tqdm(total=1)\n",
    "for subdir, dirs, files in os.walk(directory_train):\n",
    "    for file in files:\n",
    "        if file.find('_r') != -1 or file.find('_z') != -1 or file.find('_m') != -1:\n",
    "            continue\n",
    "        else:\n",
    "            a = os.path.join(subdir, file)\n",
    "            rotate(a)\n",
    "            #zoom(a)\n",
    "            mirror(a)\n",
    "            pbar.update(1/nombre_image_train)\n",
    "pbar.close()"
   ]
  },
  {
   "cell_type": "markdown",
   "metadata": {},
   "source": [
    "# Recuperation du train et du set"
   ]
  },
  {
   "cell_type": "code",
   "execution_count": 6,
   "metadata": {},
   "outputs": [],
   "source": [
    "training_data = tf.keras.preprocessing.image.ImageDataGenerator(rescale=1./255)"
   ]
  },
  {
   "cell_type": "code",
   "execution_count": 15,
   "metadata": {},
   "outputs": [
    {
     "name": "stdout",
     "output_type": "stream",
     "text": [
      "Found 4355 images belonging to 10 classes.\n",
      "Found 388 images belonging to 10 classes.\n"
     ]
    }
   ],
   "source": [
    "train = training_data.flow_from_directory(\n",
    "    pathlib.Path().joinpath('Train').absolute(),\n",
    "    target_size=(150,150),\n",
    "    class_mode='categorical'\n",
    ")\n",
    "\n",
    "test = training_data.flow_from_directory(\n",
    "    pathlib.Path().joinpath('test').absolute(),\n",
    "    target_size=(150,150),\n",
    "    class_mode='categorical'\n",
    ")"
   ]
  },
  {
   "cell_type": "markdown",
   "metadata": {},
   "source": [
    "# Model"
   ]
  },
  {
   "cell_type": "code",
   "execution_count": 29,
   "metadata": {},
   "outputs": [],
   "source": [
    "model = tf.keras.models.Sequential([\n",
    "    tf.keras.layers.Conv2D(64, (3,3), activation='relu', input_shape=(150, 150, 3)),\n",
    "    tf.keras.layers.MaxPooling2D(2,2),\n",
    "    tf.keras.layers.Conv2D(64, (3,3), activation='relu'),\n",
    "    tf.keras.layers.MaxPooling2D(2,2),\n",
    "    tf.keras.layers.Conv2D(128, (3,3), activation='relu'),\n",
    "    tf.keras.layers.MaxPooling2D(2,2),\n",
    "    tf.keras.layers.Conv2D(128, (3,3), activation='relu'),\n",
    "    tf.keras.layers.MaxPooling2D(2,2),\n",
    "    \n",
    "    tf.keras.layers.Flatten(),\n",
    "    tf.keras.layers.Dropout(0.2),\n",
    "    \n",
    "    tf.keras.layers.Dense(700, activation='relu',kernel_regularizer=tf.keras.regularizers.l2(0.001)),\n",
    "    tf.keras.layers.Dropout(0.2),\n",
    "    tf.keras.layers.Dense(10, activation='softmax')\n",
    "])"
   ]
  },
  {
   "cell_type": "code",
   "execution_count": 30,
   "metadata": {},
   "outputs": [],
   "source": [
    "model.compile(loss='categorical_crossentropy',\n",
    "             optimizer='adam',\n",
    "             metrics=['accuracy'])"
   ]
  },
  {
   "cell_type": "markdown",
   "metadata": {},
   "source": [
    "# Entrainement du model"
   ]
  },
  {
   "cell_type": "code",
   "execution_count": 31,
   "metadata": {
    "scrolled": true
   },
   "outputs": [
    {
     "name": "stdout",
     "output_type": "stream",
     "text": [
      "Epoch 1/40\n",
      "137/137 [==============================] - ETA: 0s - loss: 2.5718 - accuracy: 0.1316\n",
      "Epoch: 0, accuracy:0.1316,  loss:2.5718,  val_accuracy:0.1330,  val_loss:2.3363,  \n",
      "137/137 [==============================] - 121s 882ms/step - loss: 2.5718 - accuracy: 0.1316 - val_loss: 2.3363 - val_accuracy: 0.1330\n",
      "Epoch 2/40\n",
      "137/137 [==============================] - 119s 869ms/step - loss: 2.2454 - accuracy: 0.2069 - val_loss: 2.2404 - val_accuracy: 0.2039\n",
      "Epoch 3/40\n",
      "137/137 [==============================] - 118s 864ms/step - loss: 2.1440 - accuracy: 0.2583 - val_loss: 2.0689 - val_accuracy: 0.2792\n",
      "Epoch 4/40\n",
      "137/137 [==============================] - 118s 865ms/step - loss: 2.0622 - accuracy: 0.2985 - val_loss: 1.9428 - val_accuracy: 0.3610\n",
      "Epoch 5/40\n",
      "137/137 [==============================] - 118s 860ms/step - loss: 1.9984 - accuracy: 0.3350 - val_loss: 1.8446 - val_accuracy: 0.4108\n",
      "Epoch 6/40\n",
      "137/137 [==============================] - 118s 860ms/step - loss: 1.9320 - accuracy: 0.3646 - val_loss: 1.7617 - val_accuracy: 0.4535\n",
      "Epoch 7/40\n",
      "137/137 [==============================] - 119s 865ms/step - loss: 1.8508 - accuracy: 0.4055 - val_loss: 1.6637 - val_accuracy: 0.5013\n",
      "Epoch 8/40\n",
      "137/137 [==============================] - 118s 862ms/step - loss: 1.7376 - accuracy: 0.4599 - val_loss: 1.5567 - val_accuracy: 0.5763\n",
      "Epoch 9/40\n",
      "137/137 [==============================] - 118s 863ms/step - loss: 1.6091 - accuracy: 0.5235 - val_loss: 1.2944 - val_accuracy: 0.7212\n",
      "Epoch 10/40\n",
      "137/137 [==============================] - 119s 865ms/step - loss: 1.4756 - accuracy: 0.5892 - val_loss: 1.1018 - val_accuracy: 0.7649\n",
      "Epoch 11/40\n",
      "137/137 [==============================] - 119s 867ms/step - loss: 1.3312 - accuracy: 0.6664 - val_loss: 0.9907 - val_accuracy: 0.8138\n",
      "Epoch 12/40\n",
      "137/137 [==============================] - 119s 872ms/step - loss: 1.2149 - accuracy: 0.7146 - val_loss: 0.8075 - val_accuracy: 0.9042\n",
      "Epoch 13/40\n",
      "137/137 [==============================] - 119s 871ms/step - loss: 1.0739 - accuracy: 0.7786 - val_loss: 0.7056 - val_accuracy: 0.9412\n",
      "Epoch 14/40\n",
      "137/137 [==============================] - 119s 870ms/step - loss: 0.9825 - accuracy: 0.8145 - val_loss: 0.6603 - val_accuracy: 0.9621\n",
      "Epoch 15/40\n",
      "137/137 [==============================] - 121s 884ms/step - loss: 0.9571 - accuracy: 0.8356 - val_loss: 0.6435 - val_accuracy: 0.9713\n",
      "Epoch 16/40\n",
      "137/137 [==============================] - 120s 878ms/step - loss: 0.8954 - accuracy: 0.8643 - val_loss: 0.6337 - val_accuracy: 0.9747\n",
      "Epoch 17/40\n",
      "137/137 [==============================] - 120s 873ms/step - loss: 0.8468 - accuracy: 0.8829 - val_loss: 0.5774 - val_accuracy: 0.9862\n",
      "Epoch 18/40\n",
      "137/137 [==============================] - 120s 874ms/step - loss: 0.8556 - accuracy: 0.8838 - val_loss: 0.5760 - val_accuracy: 0.9904\n",
      "Epoch 19/40\n",
      "137/137 [==============================] - 120s 875ms/step - loss: 0.7821 - accuracy: 0.9068 - val_loss: 0.5567 - val_accuracy: 0.9929\n",
      "Epoch 20/40\n",
      "137/137 [==============================] - 121s 881ms/step - loss: 0.8078 - accuracy: 0.8999 - val_loss: 0.5689 - val_accuracy: 0.9927\n",
      "Epoch 21/40\n",
      "137/137 [==============================] - 120s 875ms/step - loss: 0.7685 - accuracy: 0.9164 - val_loss: 0.5509 - val_accuracy: 0.9947\n",
      "Epoch 22/40\n",
      "137/137 [==============================] - 120s 874ms/step - loss: 0.7451 - accuracy: 0.9233 - val_loss: 0.5495 - val_accuracy: 0.9947\n",
      "Epoch 23/40\n",
      "137/137 [==============================] - 120s 875ms/step - loss: 0.7481 - accuracy: 0.9224 - val_loss: 0.5512 - val_accuracy: 0.9936\n",
      "Epoch 24/40\n",
      "137/137 [==============================] - 119s 867ms/step - loss: 0.7446 - accuracy: 0.9258 - val_loss: 0.5372 - val_accuracy: 0.9954\n",
      "Epoch 25/40\n",
      "137/137 [==============================] - 119s 867ms/step - loss: 0.7275 - accuracy: 0.9300 - val_loss: 0.5421 - val_accuracy: 0.9972\n",
      "Epoch 26/40\n",
      "137/137 [==============================] - 119s 870ms/step - loss: 0.7175 - accuracy: 0.9366 - val_loss: 0.5299 - val_accuracy: 0.9979\n",
      "Epoch 27/40\n",
      "137/137 [==============================] - 120s 875ms/step - loss: 0.7390 - accuracy: 0.9235 - val_loss: 0.5516 - val_accuracy: 0.9956\n",
      "Epoch 28/40\n",
      "137/137 [==============================] - 120s 874ms/step - loss: 0.7642 - accuracy: 0.9185 - val_loss: 0.5734 - val_accuracy: 0.9915\n",
      "Epoch 29/40\n",
      "137/137 [==============================] - 120s 875ms/step - loss: 0.7098 - accuracy: 0.9408 - val_loss: 0.5387 - val_accuracy: 0.9963\n",
      "Epoch 30/40\n",
      "137/137 [==============================] - 120s 875ms/step - loss: 0.6879 - accuracy: 0.9444 - val_loss: 0.5300 - val_accuracy: 0.9968\n",
      "Epoch 31/40\n",
      "137/137 [==============================] - 120s 874ms/step - loss: 0.7209 - accuracy: 0.9330 - val_loss: 0.5375 - val_accuracy: 0.9968\n",
      "Epoch 32/40\n",
      "137/137 [==============================] - 119s 871ms/step - loss: 0.6826 - accuracy: 0.9454 - val_loss: 0.5300 - val_accuracy: 0.9956\n",
      "Epoch 33/40\n",
      "137/137 [==============================] - 119s 872ms/step - loss: 0.6984 - accuracy: 0.9373 - val_loss: 0.5316 - val_accuracy: 0.9959\n",
      "Epoch 34/40\n",
      "137/137 [==============================] - 120s 877ms/step - loss: 0.7172 - accuracy: 0.9325 - val_loss: 0.5406 - val_accuracy: 0.9968\n",
      "Epoch 35/40\n",
      "137/137 [==============================] - 120s 876ms/step - loss: 0.7051 - accuracy: 0.9382 - val_loss: 0.5339 - val_accuracy: 0.9949\n",
      "Epoch 36/40\n",
      "137/137 [==============================] - 119s 868ms/step - loss: 0.7112 - accuracy: 0.9371 - val_loss: 0.5361 - val_accuracy: 0.9972\n"
     ]
    }
   ],
   "source": [
    "history = model.fit(train,\n",
    "                    epochs=40,\n",
    "                   validation_data=train, \n",
    "                    callbacks=[tf.keras.callbacks.EarlyStopping(monitor='val_loss', patience=10),\n",
    "                               tfdocs.modeling.EpochDots(),\n",
    "                              ])"
   ]
  },
  {
   "cell_type": "markdown",
   "metadata": {},
   "source": [
    "# Sauvegarde du model"
   ]
  },
  {
   "cell_type": "code",
   "execution_count": 33,
   "metadata": {},
   "outputs": [],
   "source": [
    "model.save('snooky.h5')"
   ]
  },
  {
   "cell_type": "markdown",
   "metadata": {},
   "source": [
    "# Evaluation"
   ]
  },
  {
   "cell_type": "code",
   "execution_count": 32,
   "metadata": {},
   "outputs": [
    {
     "name": "stdout",
     "output_type": "stream",
     "text": [
      "13/13 [==============================] - 2s 145ms/step - loss: 4.2511 - accuracy: 0.3325\n"
     ]
    }
   ],
   "source": [
    "test_loss, test_acc = model.evaluate(test)"
   ]
  },
  {
   "cell_type": "markdown",
   "metadata": {},
   "source": [
    "# Load du  Model"
   ]
  },
  {
   "cell_type": "code",
   "execution_count": null,
   "metadata": {},
   "outputs": [],
   "source": [
    "model = tf.keras.models.load_model('snooky.h5')"
   ]
  },
  {
   "cell_type": "markdown",
   "metadata": {},
   "source": [
    "# Courbe d'apprentissage"
   ]
  },
  {
   "cell_type": "code",
   "execution_count": 36,
   "metadata": {},
   "outputs": [
    {
     "data": {
      "image/png": "[encoded data removed]",
      "text/plain": [
       "<Figure size 432x288 with 1 Axes>"
      ]
     },
     "metadata": {
      "needs_background": "light"
     },
     "output_type": "display_data"
    },
    {
     "data": {
      "image/png": "[encoded data removed]",
      "text/plain": [
       "<Figure size 432x288 with 1 Axes>"
      ]
     },
     "metadata": {
      "needs_background": "light"
     },
     "output_type": "display_data"
    }
   ],
   "source": [
    "# summarize history for accuracy\n",
    "plt.plot(history.history['accuracy'], label=\"train\")\n",
    "plt.plot(history.history['val_accuracy'], label=\"test\")\n",
    "plt.title('model accuracy')\n",
    "plt.xlabel('epoch')\n",
    "plt.legend()\n",
    "plt.show()\n",
    "# summarize history for loss\n",
    "plt.plot(history.history['loss'], label=\"train\")\n",
    "plt.plot(history.history['val_loss'], label=\"test\")\n",
    "plt.title('model_loss')\n",
    "plt.ylabel('loss')\n",
    "plt.xlabel('epoch')\n",
    "plt.legend()\n",
    "plt.show()"
   ]
  },
  {
   "cell_type": "markdown",
   "metadata": {},
   "source": [
    "# Prediction"
   ]
  },
  {
   "cell_type": "code",
   "execution_count": null,
   "metadata": {},
   "outputs": [],
   "source": [
    "class_names = []\n",
    "for repertoir in os.listdir('Images'):\n",
    "    class_names.append(repertoire)\n",
    "    \n",
    "img = mpimg.imread(\"monimage.png\")\n",
    "\n",
    "prediction = model.predict(img)\n",
    "\n",
    "plt.bar(range(120),predictions[0])\n",
    "plt.xticks(range(120), class_names, rotation=45)"
   ]
  }
 ],
 "metadata": {
  "kernelspec": {
   "display_name": "Python 3",
   "language": "python",
   "name": "python3"
  },
  "language_info": {
   "codemirror_mode": {
    "name": "ipython",
    "version": 3
   },
   "file_extension": ".py",
   "mimetype": "text/x-python",
   "name": "python",
   "nbconvert_exporter": "python",
   "pygments_lexer": "ipython3",
   "version": "3.8.3"
  }
 },
 "nbformat": 4,
 "nbformat_minor": 4
}
