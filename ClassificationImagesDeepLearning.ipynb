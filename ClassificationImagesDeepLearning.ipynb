{
 "cells": [
  {
   "cell_type": "code",
   "execution_count": 61,
   "metadata": {},
   "outputs": [],
   "source": [
    "import numpy as np\n",
    "import matplotlib.pyplot as plt\n",
    "import pandas as pd\n",
    "import tensorflow as tf\n",
    "import pathlib\n",
    "import scipy.io as sio\n",
    "from os.path import dirname, join as pjoin\n",
    "import os\n",
    "from shutil import copyfile\n",
    "from sklearn.model_selection import train_test_split\n",
    "import imageio\n",
    "from PIL import Image\n",
    "from random import randint\n",
    "import scipy"
   ]
  },
  {
   "cell_type": "code",
   "execution_count": 62,
   "metadata": {},
   "outputs": [],
   "source": [
    "import tensorflow_docs as tfdocs\n",
    "import tensorflow_docs.plots\n",
    "import tensorflow_docs.modeling"
   ]
  },
  {
   "cell_type": "code",
   "execution_count": 63,
   "metadata": {},
   "outputs": [],
   "source": [
    "from whitening import whiten\n",
    "import matplotlib.image as mpimg\n",
    "import PIL.Image\n",
    "import cv2\n",
    "from skimage import io, color\n",
    "from resizeimage import resizeimage\n",
    "from tqdm.auto import tqdm"
   ]
  },
  {
   "cell_type": "code",
   "execution_count": null,
   "metadata": {},
   "outputs": [],
   "source": [
    "print(tf.__version__)"
   ]
  },
  {
   "cell_type": "code",
   "execution_count": null,
   "metadata": {},
   "outputs": [],
   "source": [
    "print(\"Num GPUs Available: \", len(tf.config.experimental.list_physical_devices('GPU')))\n",
    "mirrored_strategy = tf.distribute.MirroredStrategy()"
   ]
  },
  {
   "cell_type": "code",
   "execution_count": 65,
   "metadata": {},
   "outputs": [],
   "source": [
    "nombre_image_train = 0\n",
    "nombre_image_test = 0"
   ]
  },
  {
   "cell_type": "markdown",
   "metadata": {},
   "source": [
    "# Creation des dossiers images du train et du set"
   ]
  },
  {
   "cell_type": "code",
   "execution_count": 66,
   "metadata": {},
   "outputs": [],
   "source": [
    "if not os.path.exists('train'):\n",
    "    os.makedirs('train')\n",
    "if not os.path.exists('test'):\n",
    "    os.makedirs('test')\n",
    "\n",
    "\n",
    "for repertoir in os.listdir('Images'):\n",
    "    if not os.path.exists('train/'+repertoir):\n",
    "        os.makedirs('train/'+repertoir)\n",
    "    if not os.path.exists('test/'+repertoir):\n",
    "        os.makedirs('test/'+repertoir)\n",
    "\n",
    "    tmp_data = os.listdir(pathlib.Path().joinpath('Images/'+repertoir).absolute())\n",
    "    x_train, x_test = train_test_split(tmp_data, test_size = 0.2)\n",
    "\n",
    "    for img1 in x_train:\n",
    "        nombre_image_train = nombre_image_train + 1\n",
    "        copyfile(pathlib.Path().joinpath('Images/'+repertoir+'/'+img1).absolute(), pathlib.Path().joinpath('train/'+repertoir+'/'+img1).absolute())\n",
    "\n",
    "    for img2 in x_test:\n",
    "        nombre_image_test = nombre_image_test + 1\n",
    "        copyfile(pathlib.Path().joinpath('Images/'+repertoir+'/'+img2).absolute(), pathlib.Path().joinpath('test/'+repertoir+'/'+img2).absolute())\n"
   ]
  },
  {
   "cell_type": "code",
   "execution_count": 67,
   "metadata": {},
   "outputs": [
    {
     "name": "stdout",
     "output_type": "stream",
     "text": [
      "1531\n",
      "388\n"
     ]
    }
   ],
   "source": [
    "print(nombre_image_train)\n",
    "print(nombre_image_test)"
   ]
  },
  {
   "cell_type": "code",
   "execution_count": 59,
   "metadata": {},
   "outputs": [],
   "source": [
    "#nombre_image_train = 1531\n",
    "#nombre_image_test = 388"
   ]
  },
  {
   "cell_type": "markdown",
   "metadata": {},
   "source": [
    "# Traitement des images"
   ]
  },
  {
   "cell_type": "markdown",
   "metadata": {},
   "source": [
    "## Resize"
   ]
  },
  {
   "cell_type": "code",
   "execution_count": 68,
   "metadata": {},
   "outputs": [
    {
     "data": {
      "application/vnd.jupyter.widget-view+json": {
       "model_id": "6872df90d94c454f994298842892963a",
       "version_major": 2,
       "version_minor": 0
      },
      "text/plain": [
       "HBox(children=(FloatProgress(value=0.0, max=1.0), HTML(value='')))"
      ]
     },
     "metadata": {},
     "output_type": "display_data"
    },
    {
     "name": "stdout",
     "output_type": "stream",
     "text": [
      "\n"
     ]
    },
    {
     "data": {
      "application/vnd.jupyter.widget-view+json": {
       "model_id": "688aa3b0bf054051bf8fb788d81cf6ce",
       "version_major": 2,
       "version_minor": 0
      },
      "text/plain": [
       "HBox(children=(FloatProgress(value=0.0, max=1.0), HTML(value='')))"
      ]
     },
     "metadata": {},
     "output_type": "display_data"
    },
    {
     "name": "stdout",
     "output_type": "stream",
     "text": [
      "\n"
     ]
    }
   ],
   "source": [
    "directory_train = 'test/' \n",
    "pbar = tqdm(total=1)\n",
    "for subdir, dirs, files in os.walk(directory_train):\n",
    "    for file in files:\n",
    "        img = os.path.join(subdir, file)\n",
    "        with open(img, 'r+b') as f:\n",
    "            with Image.open(f) as image:\n",
    "                if(image.size > (150,150,3)):\n",
    "                    cover = resizeimage.resize_cover(image, (150, 150))\n",
    "                    cover.save(img, image.format)\n",
    "                pbar.update(1/nombre_image_test)\n",
    "pbar.close()\n",
    "                \n",
    "directory_train = 'train/'  \n",
    "pbar = tqdm(total=1)\n",
    "for subdir, dirs, files in os.walk(directory_train):\n",
    "    for file in files:\n",
    "        img = os.path.join(subdir, file)\n",
    "        with open(img, 'r+b') as f:\n",
    "            with Image.open(f) as image:\n",
    "                if(image.size > (150,150,3)):\n",
    "                    cover = resizeimage.resize_cover(image, (150, 150))\n",
    "                    cover.save(img, image.format)\n",
    "                pbar.update(1/nombre_image_train)\n",
    "pbar.close()"
   ]
  },
  {
   "cell_type": "markdown",
   "metadata": {},
   "source": [
    "## Whitening"
   ]
  },
  {
   "cell_type": "code",
   "execution_count": 69,
   "metadata": {},
   "outputs": [
    {
     "data": {
      "application/vnd.jupyter.widget-view+json": {
       "model_id": "357e9cfaf9da4eef8589d5654830ef1b",
       "version_major": 2,
       "version_minor": 0
      },
      "text/plain": [
       "HBox(children=(FloatProgress(value=0.0, max=1.0), HTML(value='')))"
      ]
     },
     "metadata": {},
     "output_type": "display_data"
    },
    {
     "name": "stdout",
     "output_type": "stream",
     "text": [
      "\n"
     ]
    },
    {
     "data": {
      "application/vnd.jupyter.widget-view+json": {
       "model_id": "2e389cf0df5b47f8898a34a3a9434947",
       "version_major": 2,
       "version_minor": 0
      },
      "text/plain": [
       "HBox(children=(FloatProgress(value=0.0, max=1.0), HTML(value='')))"
      ]
     },
     "metadata": {},
     "output_type": "display_data"
    },
    {
     "name": "stdout",
     "output_type": "stream",
     "text": [
      "\n"
     ]
    }
   ],
   "source": [
    "def whitening(img):\n",
    "    image = PIL.Image.open(img)\n",
    "    foreground, background = whiten(image, kernel_size=20, downsample=4)\n",
    "    foreground.save(img, 'jpeg')\n",
    "                                    \n",
    "# image = plt.show('Images/n02085620-Chihuahua/'+tmp_data[0])\n",
    "# foreground, background = whiten(image, kernel_size=20, downsample=4)\n",
    "# foreground.save('foreground.jpg', 'jpeg')\n",
    "\n",
    "# On s'occupe des images dans train  \n",
    "directory_train = 'train/' \n",
    "pbar = tqdm(total=1)\n",
    "for subdir, dirs, files in os.walk(directory_train):\n",
    "    for file in files:\n",
    "        a = os.path.join(subdir, file)\n",
    "        whitening(a)\n",
    "        pbar.update(1/nombre_image_train)\n",
    "pbar.close()\n",
    "    \n",
    "# On s'occupe des images dans test\n",
    "directory_test= 'test/'\n",
    "pbar = tqdm(total=1)\n",
    "for subdir, dirs, files in os.walk(directory_test):\n",
    "    for file in files:\n",
    "        a = os.path.join(subdir, file)\n",
    "        whitening(a)\n",
    "        pbar.update(1/nombre_image_test)\n",
    "pbar.close()"
   ]
  },
  {
   "cell_type": "markdown",
   "metadata": {},
   "source": [
    "## Equalization"
   ]
  },
  {
   "cell_type": "code",
   "execution_count": 70,
   "metadata": {},
   "outputs": [
    {
     "data": {
      "application/vnd.jupyter.widget-view+json": {
       "model_id": "e853cc3df78749ec8c49820851803ad3",
       "version_major": 2,
       "version_minor": 0
      },
      "text/plain": [
       "HBox(children=(FloatProgress(value=0.0, max=1.0), HTML(value='')))"
      ]
     },
     "metadata": {},
     "output_type": "display_data"
    },
    {
     "name": "stdout",
     "output_type": "stream",
     "text": [
      "\n"
     ]
    },
    {
     "data": {
      "application/vnd.jupyter.widget-view+json": {
       "model_id": "c51596f71df647b78b6b8d306c840d5b",
       "version_major": 2,
       "version_minor": 0
      },
      "text/plain": [
       "HBox(children=(FloatProgress(value=0.0, max=1.0), HTML(value='')))"
      ]
     },
     "metadata": {},
     "output_type": "display_data"
    },
    {
     "name": "stdout",
     "output_type": "stream",
     "text": [
      "\n"
     ]
    }
   ],
   "source": [
    "def equalization(image):\n",
    "    img = cv2.imread(image)\n",
    "    img_to_yuv = cv2.cvtColor(img,cv2.COLOR_BGR2YUV)\n",
    "    img_to_yuv[:,:,0] = cv2.equalizeHist(img_to_yuv[:,:,0])\n",
    "    hist_equalization_result = cv2.cvtColor(img_to_yuv, cv2.COLOR_YUV2BGR)\n",
    "    cv2.imwrite(image,hist_equalization_result)\n",
    "    \n",
    "    \n",
    "directory_train = 'train/'\n",
    "pbar = tqdm(total=1)\n",
    "for subdir, dirs, files in os.walk(directory_train):\n",
    "    for file in files:\n",
    "        a = os.path.join(subdir, file)\n",
    "        equalization(a)\n",
    "        pbar.update(1/nombre_image_train)\n",
    "pbar.close()\n",
    "\n",
    "directory_train = 'test/'\n",
    "pbar = tqdm(total=1)\n",
    "for subdir, dirs, files in os.walk(directory_train):\n",
    "    for file in files:\n",
    "        a = os.path.join(subdir, file)\n",
    "        equalization(a)\n",
    "        pbar.update(1/nombre_image_test)\n",
    "pbar.close()"
   ]
  },
  {
   "cell_type": "markdown",
   "metadata": {},
   "source": [
    "# Augmention du train"
   ]
  },
  {
   "cell_type": "code",
   "execution_count": 71,
   "metadata": {},
   "outputs": [],
   "source": [
    "def reName(imgName, endString, idString):\n",
    "    index = imgName.find(endString)\n",
    "    if index != -1 :\n",
    "        newImageName = imgName[0:(index-1)]\n",
    "        newImageName = newImageName + idString + endString\n",
    "        return newImageName\n",
    "    else:\n",
    "        return imgName"
   ]
  },
  {
   "cell_type": "markdown",
   "metadata": {},
   "source": [
    "## Mirroring"
   ]
  },
  {
   "cell_type": "code",
   "execution_count": 72,
   "metadata": {},
   "outputs": [],
   "source": [
    "def mirror(img):\n",
    "    image = cv2.imread(img)\n",
    "    mirrorImage = cv2.flip(image, 1)\n",
    "    newImgName = reName(img, '.jpg', '_m')\n",
    "    mirrorImage = Image.fromarray(mirrorImage)\n",
    "    mirrorImage.save(newImgName , 'jpeg')"
   ]
  },
  {
   "cell_type": "markdown",
   "metadata": {},
   "source": [
    "## Cropping"
   ]
  },
  {
   "cell_type": "code",
   "execution_count": 73,
   "metadata": {},
   "outputs": [],
   "source": [
    "def zoom(img):\n",
    "    image = cv2.imread(img)\n",
    "    h, w = image.shape[:2]\n",
    "    zoomImg = image[h//8 : -h//8,w//8 : -w//8]\n",
    "    newImgName = reName(img, '.jpg', '_z')\n",
    "    zoomImg = Image.fromarray(zoomImg)\n",
    "    zoomImg.save(newImgName , 'jpeg')"
   ]
  },
  {
   "cell_type": "markdown",
   "metadata": {},
   "source": [
    "## Rotate"
   ]
  },
  {
   "cell_type": "code",
   "execution_count": 74,
   "metadata": {},
   "outputs": [],
   "source": [
    "def rotate(img):\n",
    "    value = randint(-90, 90)\n",
    "    image = Image.open(img)\n",
    "    image = image.rotate(value)\n",
    "    newImgName = reName(img, '.jpg', '_r')\n",
    "    image.save(newImgName , 'jpeg')"
   ]
  },
  {
   "cell_type": "code",
   "execution_count": 75,
   "metadata": {},
   "outputs": [
    {
     "data": {
      "application/vnd.jupyter.widget-view+json": {
       "model_id": "018098018fcb4b97b5d74ff05ba86e78",
       "version_major": 2,
       "version_minor": 0
      },
      "text/plain": [
       "HBox(children=(FloatProgress(value=0.0, max=1.0), HTML(value='')))"
      ]
     },
     "metadata": {},
     "output_type": "display_data"
    },
    {
     "name": "stdout",
     "output_type": "stream",
     "text": [
      "\n"
     ]
    }
   ],
   "source": [
    "# On s'occupe des images dans train    \n",
    "directory_train = 'train/' \n",
    "pbar = tqdm(total=1)\n",
    "for subdir, dirs, files in os.walk(directory_train):\n",
    "    for file in files:\n",
    "        if file.find('_r') != -1 or file.find('_z') != -1 or file.find('_m') != -1:\n",
    "            continue\n",
    "        else:\n",
    "            a = os.path.join(subdir, file)\n",
    "            rotate(a)\n",
    "            zoom(a)\n",
    "            mirror(a)\n",
    "            pbar.update(1/nombre_image_train)\n",
    "pbar.close()"
   ]
  },
  {
   "cell_type": "markdown",
   "metadata": {},
   "source": [
    "# Recuperation du train et du set"
   ]
  },
  {
   "cell_type": "code",
   "execution_count": 76,
   "metadata": {},
   "outputs": [],
   "source": [
    "training_data = tf.keras.preprocessing.image.ImageDataGenerator(rescale=1./255)"
   ]
  },
  {
   "cell_type": "code",
   "execution_count": 92,
   "metadata": {},
   "outputs": [
    {
     "name": "stdout",
     "output_type": "stream",
     "text": [
      "Found 5740 images belonging to 10 classes.\n",
      "Found 388 images belonging to 10 classes.\n"
     ]
    }
   ],
   "source": [
    "train = training_data.flow_from_directory(\n",
    "    pathlib.Path().joinpath('Train').absolute(),\n",
    "    target_size=(150,150),\n",
    "    class_mode='categorical'\n",
    ")\n",
    "\n",
    "test = training_data.flow_from_directory(\n",
    "    pathlib.Path().joinpath('test').absolute(),\n",
    "    target_size=(150,150),\n",
    "    class_mode='categorical'\n",
    ")"
   ]
  },
  {
   "cell_type": "markdown",
   "metadata": {},
   "source": [
    "# Model"
   ]
  },
  {
   "cell_type": "code",
   "execution_count": 93,
   "metadata": {},
   "outputs": [],
   "source": [
    "model = tf.keras.models.Sequential([\n",
    "    tf.keras.layers.Conv2D(64, (3,3), activation='relu', input_shape=(150, 150, 3)),\n",
    "    tf.keras.layers.MaxPooling2D(2,2),\n",
    "    tf.keras.layers.Conv2D(64, (3,3), activation='relu'),\n",
    "    tf.keras.layers.MaxPooling2D(2,2),\n",
    "    tf.keras.layers.Conv2D(128, (3,3), activation='relu'),\n",
    "    tf.keras.layers.MaxPooling2D(2,2),\n",
    "    tf.keras.layers.Conv2D(128, (3,3), activation='relu'),\n",
    "    tf.keras.layers.MaxPooling2D(2,2),\n",
    "    \n",
    "    tf.keras.layers.Flatten(),\n",
    "    tf.keras.layers.Dropout(0.2),\n",
    "    \n",
    "    tf.keras.layers.Dense(700, activation='relu',kernel_regularizer=tf.keras.regularizers.l2(0.001)),\n",
    "    tf.keras.layers.Dropout(0.2),\n",
    "    tf.keras.layers.Dense(300, activation='relu',kernel_regularizer=tf.keras.regularizers.l2(0.001)),\n",
    "    tf.keras.layers.Dropout(0.2),\n",
    "    tf.keras.layers.Dense(10, activation='softmax')\n",
    "])"
   ]
  },
  {
   "cell_type": "code",
   "execution_count": 94,
   "metadata": {},
   "outputs": [],
   "source": [
    "model.compile(loss='categorical_crossentropy',\n",
    "             optimizer='adam',\n",
    "             metrics=['accuracy'])"
   ]
  },
  {
   "cell_type": "markdown",
   "metadata": {},
   "source": [
    "# Entrainement du model"
   ]
  },
  {
   "cell_type": "code",
   "execution_count": 95,
   "metadata": {
    "scrolled": true
   },
   "outputs": [
    {
     "name": "stdout",
     "output_type": "stream",
     "text": [
      "Epoch 1/40\n",
      "180/180 [==============================] - ETA: 0s - loss: 2.6152 - accuracy: 0.1239\n",
      "Epoch: 0, accuracy:0.1239,  loss:2.6152,  val_accuracy:0.1317,  val_loss:2.3382,  \n",
      "180/180 [==============================] - 169s 937ms/step - loss: 2.6152 - accuracy: 0.1239 - val_loss: 2.3382 - val_accuracy: 0.1317\n",
      "Epoch 2/40\n",
      "180/180 [==============================] - 169s 938ms/step - loss: 2.2693 - accuracy: 0.1704 - val_loss: 2.2235 - val_accuracy: 0.1774\n",
      "Epoch 3/40\n",
      "180/180 [==============================] - 169s 936ms/step - loss: 2.1617 - accuracy: 0.2354 - val_loss: 2.1047 - val_accuracy: 0.2589\n",
      "Epoch 4/40\n",
      "180/180 [==============================] - 168s 934ms/step - loss: 2.0998 - accuracy: 0.2587 - val_loss: 2.0054 - val_accuracy: 0.3066\n",
      "Epoch 5/40\n",
      "180/180 [==============================] - 169s 937ms/step - loss: 2.0482 - accuracy: 0.2958 - val_loss: 1.9938 - val_accuracy: 0.3235\n",
      "Epoch 6/40\n",
      "180/180 [==============================] - 169s 938ms/step - loss: 1.9840 - accuracy: 0.3317 - val_loss: 1.8756 - val_accuracy: 0.3599\n",
      "Epoch 7/40\n",
      "180/180 [==============================] - 168s 934ms/step - loss: 1.9026 - accuracy: 0.3643 - val_loss: 1.7791 - val_accuracy: 0.4075\n",
      "Epoch 8/40\n",
      "180/180 [==============================] - 167s 929ms/step - loss: 1.8246 - accuracy: 0.3944 - val_loss: 1.6604 - val_accuracy: 0.4913\n",
      "Epoch 9/40\n",
      "180/180 [==============================] - 170s 944ms/step - loss: 1.7576 - accuracy: 0.4322 - val_loss: 1.4965 - val_accuracy: 0.5402\n",
      "Epoch 10/40\n",
      "180/180 [==============================] - 178s 988ms/step - loss: 1.6554 - accuracy: 0.4852 - val_loss: 1.4016 - val_accuracy: 0.6106\n",
      "Epoch 11/40\n",
      "180/180 [==============================] - 187s 1s/step - loss: 1.5388 - accuracy: 0.5300 - val_loss: 1.4296 - val_accuracy: 0.5732\n",
      "Epoch 12/40\n",
      "180/180 [==============================] - 175s 974ms/step - loss: 1.4732 - accuracy: 0.5625 - val_loss: 1.1974 - val_accuracy: 0.6944\n",
      "Epoch 13/40\n",
      "180/180 [==============================] - 172s 955ms/step - loss: 1.3722 - accuracy: 0.5943 - val_loss: 0.9958 - val_accuracy: 0.7812\n",
      "Epoch 14/40\n",
      "180/180 [==============================] - 173s 961ms/step - loss: 1.3002 - accuracy: 0.6303 - val_loss: 0.9230 - val_accuracy: 0.8096\n",
      "Epoch 15/40\n",
      "180/180 [==============================] - 166s 922ms/step - loss: 1.1992 - accuracy: 0.6831 - val_loss: 0.7806 - val_accuracy: 0.8737\n",
      "Epoch 16/40\n",
      "180/180 [==============================] - 166s 922ms/step - loss: 1.1409 - accuracy: 0.7059 - val_loss: 0.9292 - val_accuracy: 0.8120\n",
      "Epoch 17/40\n",
      "180/180 [==============================] - 162s 900ms/step - loss: 1.0832 - accuracy: 0.7348 - val_loss: 0.7470 - val_accuracy: 0.8906\n",
      "Epoch 18/40\n",
      "180/180 [==============================] - 162s 902ms/step - loss: 1.0228 - accuracy: 0.7545 - val_loss: 0.6501 - val_accuracy: 0.9240\n",
      "Epoch 19/40\n",
      "180/180 [==============================] - 162s 897ms/step - loss: 0.9902 - accuracy: 0.7643 - val_loss: 0.5958 - val_accuracy: 0.9382\n",
      "Epoch 20/40\n",
      "180/180 [==============================] - 162s 898ms/step - loss: 0.9629 - accuracy: 0.7892 - val_loss: 0.6141 - val_accuracy: 0.9406\n",
      "Epoch 21/40\n",
      "180/180 [==============================] - 163s 905ms/step - loss: 0.9178 - accuracy: 0.8000 - val_loss: 0.5954 - val_accuracy: 0.9465\n",
      "Epoch 22/40\n",
      "180/180 [==============================] - 163s 906ms/step - loss: 0.8785 - accuracy: 0.8162 - val_loss: 0.5414 - val_accuracy: 0.9692\n",
      "Epoch 23/40\n",
      "180/180 [==============================] - 161s 896ms/step - loss: 0.8523 - accuracy: 0.8279 - val_loss: 0.4933 - val_accuracy: 0.9775\n",
      "Epoch 24/40\n",
      "180/180 [==============================] - 163s 903ms/step - loss: 0.8465 - accuracy: 0.8314 - val_loss: 0.4868 - val_accuracy: 0.9848\n",
      "Epoch 25/40\n",
      "180/180 [==============================] - 165s 917ms/step - loss: 0.8401 - accuracy: 0.8343 - val_loss: 0.4746 - val_accuracy: 0.9836\n",
      "Epoch 26/40\n",
      "180/180 [==============================] - 179s 993ms/step - loss: 0.7825 - accuracy: 0.8563 - val_loss: 0.4540 - val_accuracy: 0.9906\n",
      "Epoch 27/40\n",
      "180/180 [==============================] - 185s 1s/step - loss: 0.7656 - accuracy: 0.8669 - val_loss: 0.5044 - val_accuracy: 0.9692\n",
      "Epoch 28/40\n",
      "180/180 [==============================] - 174s 969ms/step - loss: 0.7606 - accuracy: 0.8674 - val_loss: 0.4729 - val_accuracy: 0.9789\n",
      "Epoch 29/40\n",
      "180/180 [==============================] - 157s 870ms/step - loss: 0.7656 - accuracy: 0.8653 - val_loss: 0.4530 - val_accuracy: 0.9880\n",
      "Epoch 30/40\n",
      "180/180 [==============================] - 158s 880ms/step - loss: 0.7394 - accuracy: 0.8732 - val_loss: 0.4505 - val_accuracy: 0.9913\n",
      "Epoch 31/40\n",
      "180/180 [==============================] - 160s 888ms/step - loss: 0.7260 - accuracy: 0.8828 - val_loss: 0.4298 - val_accuracy: 0.9943\n",
      "Epoch 32/40\n",
      "180/180 [==============================] - 160s 892ms/step - loss: 0.7180 - accuracy: 0.8861 - val_loss: 0.4314 - val_accuracy: 0.9918\n",
      "Epoch 33/40\n",
      "180/180 [==============================] - 163s 903ms/step - loss: 0.7383 - accuracy: 0.8774 - val_loss: 0.4703 - val_accuracy: 0.9847\n",
      "Epoch 34/40\n",
      "180/180 [==============================] - 170s 947ms/step - loss: 0.7106 - accuracy: 0.8854 - val_loss: 0.4189 - val_accuracy: 0.9963\n",
      "Epoch 35/40\n",
      "180/180 [==============================] - 177s 982ms/step - loss: 0.6923 - accuracy: 0.8943 - val_loss: 0.4660 - val_accuracy: 0.9822\n",
      "Epoch 36/40\n",
      "180/180 [==============================] - 166s 922ms/step - loss: 0.7101 - accuracy: 0.8882 - val_loss: 0.4189 - val_accuracy: 0.9956\n",
      "Epoch 37/40\n",
      "180/180 [==============================] - 169s 941ms/step - loss: 0.7069 - accuracy: 0.8850 - val_loss: 0.4208 - val_accuracy: 0.9958\n",
      "Epoch 38/40\n",
      "180/180 [==============================] - 167s 926ms/step - loss: 0.6681 - accuracy: 0.9028 - val_loss: 0.4224 - val_accuracy: 0.9930\n",
      "Epoch 39/40\n",
      "180/180 [==============================] - 169s 940ms/step - loss: 0.7102 - accuracy: 0.8889 - val_loss: 0.4166 - val_accuracy: 0.9965\n",
      "Epoch 40/40\n",
      "180/180 [==============================] - 165s 918ms/step - loss: 0.6650 - accuracy: 0.9047 - val_loss: 0.4116 - val_accuracy: 0.9948\n"
     ]
    }
   ],
   "source": [
    "history = model.fit(train,\n",
    "                    epochs=40,\n",
    "                   validation_data=train, \n",
    "                    callbacks=[tf.keras.callbacks.EarlyStopping(monitor='val_loss', patience=10),\n",
    "                               tfdocs.modeling.EpochDots(),\n",
    "                               tf.keras.callbacks.ModelCheckpoint(\"weights.best.hdf5\", \n",
    "                                                                   monitor='val_accuracy', \n",
    "                                                                   verbose=0, \n",
    "                                                                   save_best_only=True, \n",
    "                                                                   save_weights_only=False, \n",
    "                                                                   mode='max', \n",
    "                                                                   periode=1)])"
   ]
  },
  {
   "cell_type": "markdown",
   "metadata": {},
   "source": [
    "# Sauvegarde du model"
   ]
  },
  {
   "cell_type": "code",
   "execution_count": 96,
   "metadata": {},
   "outputs": [],
   "source": [
    "model.save('snooky.h5')"
   ]
  },
  {
   "cell_type": "markdown",
   "metadata": {},
   "source": [
    "# Evaluation"
   ]
  },
  {
   "cell_type": "code",
   "execution_count": 97,
   "metadata": {},
   "outputs": [
    {
     "name": "stdout",
     "output_type": "stream",
     "text": [
      "13/13 [==============================] - 2s 174ms/step - loss: 3.4886 - accuracy: 0.3608\n"
     ]
    }
   ],
   "source": [
    "test_loss, test_acc = model.evaluate(test)"
   ]
  },
  {
   "cell_type": "markdown",
   "metadata": {},
   "source": [
    "# Load du  Model"
   ]
  },
  {
   "cell_type": "code",
   "execution_count": 4,
   "metadata": {},
   "outputs": [],
   "source": [
    "model = tf.keras.models.load_model('snooky.h5')"
   ]
  },
  {
   "cell_type": "markdown",
   "metadata": {},
   "source": [
    "# Courbe d'apprentissage"
   ]
  },
  {
   "cell_type": "code",
   "execution_count": 98,
   "metadata": {},
   "outputs": [
    {
     "data": {
      "image/png": "[encoded data removed]",
      "text/plain": [
       "<Figure size 432x288 with 1 Axes>"
      ]
     },
     "metadata": {
      "needs_background": "light"
     },
     "output_type": "display_data"
    },
    {
     "data": {
      "image/png": "[encoded data removed]",
      "text/plain": [
       "<Figure size 432x288 with 1 Axes>"
      ]
     },
     "metadata": {
      "needs_background": "light"
     },
     "output_type": "display_data"
    }
   ],
   "source": [
    "# summarize history for accuracy\n",
    "plt.plot(history.history['accuracy'], label=\"train\")\n",
    "plt.plot(history.history['val_accuracy'], label=\"test\")\n",
    "plt.title('model accuracy')\n",
    "plt.xlabel('epoch')\n",
    "plt.legend()\n",
    "plt.show()\n",
    "# summarize history for loss\n",
    "plt.plot(history.history['loss'], label=\"train\")\n",
    "plt.plot(history.history['val_loss'], label=\"test\")\n",
    "plt.title('model loss')\n",
    "plt.ylabel('loss')\n",
    "plt.xlabel('epoch')\n",
    "plt.legend()\n",
    "plt.show()"
   ]
  },
  {
   "cell_type": "markdown",
   "metadata": {},
   "source": [
    "# Prediction"
   ]
  },
  {
   "cell_type": "code",
   "execution_count": 99,
   "metadata": {},
   "outputs": [
    {
     "name": "stdout",
     "output_type": "stream",
     "text": [
      "Found 1 images belonging to 1 classes.\n"
     ]
    },
    {
     "data": {
      "text/plain": [
       "([<matplotlib.axis.XTick at 0x29885092460>,\n",
       "  <matplotlib.axis.XTick at 0x29885092430>,\n",
       "  <matplotlib.axis.XTick at 0x2988508db80>,\n",
       "  <matplotlib.axis.XTick at 0x298850c8970>,\n",
       "  <matplotlib.axis.XTick at 0x298850c8e80>,\n",
       "  <matplotlib.axis.XTick at 0x298850d13d0>,\n",
       "  <matplotlib.axis.XTick at 0x298850d18e0>,\n",
       "  <matplotlib.axis.XTick at 0x298850d1df0>,\n",
       "  <matplotlib.axis.XTick at 0x298850d7340>,\n",
       "  <matplotlib.axis.XTick at 0x298850d1ac0>],\n",
       " [Text(0, 0, 'Chihuahua'),\n",
       "  Text(0, 0, 'Japanese_spaniel'),\n",
       "  Text(0, 0, 'Maltese_dog'),\n",
       "  Text(0, 0, 'Pekinese'),\n",
       "  Text(0, 0, 'Shih-Tzu'),\n",
       "  Text(0, 0, 'Blenheim_spaniel'),\n",
       "  Text(0, 0, 'papillon'),\n",
       "  Text(0, 0, 'toy_terrier'),\n",
       "  Text(0, 0, 'Rhodesian_ridgeback'),\n",
       "  Text(0, 0, 'Afghan_hound')])"
      ]
     },
     "execution_count": 99,
     "metadata": {},
     "output_type": "execute_result"
    },
    {
     "data": {
      "image/png": "[encoded data removed]",
      "text/plain": [
       "<Figure size 432x288 with 1 Axes>"
      ]
     },
     "metadata": {
      "needs_background": "light"
     },
     "output_type": "display_data"
    }
   ],
   "source": [
    "class_names =[ 'Afghan_hound', 'Blenheim_spaniel', 'Chihuahua', 'Japanese_spaniel', 'Maltese_dog', 'papillon', 'Pekinese', 'Rhodesian_ridgeback', 'Shih-Tzu',  'toy_terrier']\n",
    "\n",
    "            \n",
    "test_user = training_data.flow_from_directory(\n",
    "    pathlib.Path().joinpath('test_user').absolute(),\n",
    "    target_size=(150,150),\n",
    "    class_mode='categorical'\n",
    ")\n",
    "prediction = model.predict(test_user)\n",
    "\n",
    "plt.bar(range(10),prediction[0])\n",
    "plt.xticks(range(10), class_names, rotation=90)"
   ]
  },
  {
   "cell_type": "code",
   "execution_count": null,
   "metadata": {},
   "outputs": [],
   "source": []
  }
 ],
 "metadata": {
  "kernelspec": {
   "display_name": "Python 3",
   "language": "python",
   "name": "python3"
  },
  "language_info": {
   "codemirror_mode": {
    "name": "ipython",
    "version": 3
   },
   "file_extension": ".py",
   "mimetype": "text/x-python",
   "name": "python",
   "nbconvert_exporter": "python",
   "pygments_lexer": "ipython3",
   "version": "3.8.3"
  }
 },
 "nbformat": 4,
 "nbformat_minor": 4
}
