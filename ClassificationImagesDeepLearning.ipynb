{
 "cells": [
  {
   "cell_type": "code",
   "execution_count": 2,
   "metadata": {},
   "outputs": [],
   "source": [
    "import numpy as np\n",
    "import matplotlib.pyplot as plt\n",
    "import pandas as pd\n",
    "import tensorflow as tf\n",
    "import pathlib\n",
    "import scipy.io as sio\n",
    "from os.path import dirname, join as pjoin\n",
    "import os\n",
    "from shutil import copyfile\n",
    "from sklearn.model_selection import train_test_split\n",
    "import imageio\n",
    "from PIL import Image\n",
    "from random import randint\n",
    "import scipy\n",
    "from sklearn.preprocessing import RobustScaler"
   ]
  },
  {
   "cell_type": "code",
   "execution_count": 3,
   "metadata": {},
   "outputs": [],
   "source": [
    "import tensorflow_docs as tfdocs\n",
    "import tensorflow_docs.plots\n",
    "import tensorflow_docs.modeling"
   ]
  },
  {
   "cell_type": "code",
   "execution_count": 4,
   "metadata": {},
   "outputs": [],
   "source": [
    "from whitening import whiten\n",
    "import matplotlib.image as mpimg\n",
    "import PIL.Image\n",
    "import cv2\n",
    "from skimage import io, color\n",
    "from resizeimage import resizeimage\n",
    "from tqdm.auto import tqdm"
   ]
  },
  {
   "cell_type": "code",
   "execution_count": 9,
   "metadata": {},
   "outputs": [
    {
     "name": "stdout",
     "output_type": "stream",
     "text": [
      "2.2.0\n"
     ]
    }
   ],
   "source": [
    "print(tf.__version__)"
   ]
  },
  {
   "cell_type": "code",
   "execution_count": 10,
   "metadata": {},
   "outputs": [
    {
     "name": "stdout",
     "output_type": "stream",
     "text": [
      "Num GPUs Available:  1\n",
      "INFO:tensorflow:Using MirroredStrategy with devices ('/job:localhost/replica:0/task:0/device:GPU:0',)\n"
     ]
    }
   ],
   "source": [
    "print(\"Num GPUs Available: \", len(tf.config.experimental.list_physical_devices('GPU')))\n",
    "mirrored_strategy = tf.distribute.MirroredStrategy()"
   ]
  },
  {
   "cell_type": "code",
   "execution_count": 11,
   "metadata": {},
   "outputs": [],
   "source": [
    "nombre_image_train = 0\n",
    "nombre_image_test = 0"
   ]
  },
  {
   "cell_type": "markdown",
   "metadata": {},
   "source": [
    "# Creation des dossiers images du train et du set"
   ]
  },
  {
   "cell_type": "code",
   "execution_count": 12,
   "metadata": {},
   "outputs": [],
   "source": [
    "if not os.path.exists('train'):\n",
    "    os.makedirs('train')\n",
    "if not os.path.exists('test'):\n",
    "    os.makedirs('test')\n",
    "\n",
    "\n",
    "for repertoir in os.listdir('Images'):\n",
    "    if not os.path.exists('train/'+repertoir):\n",
    "        os.makedirs('train/'+repertoir)\n",
    "    if not os.path.exists('test/'+repertoir):\n",
    "        os.makedirs('test/'+repertoir)\n",
    "\n",
    "    tmp_data = os.listdir(pathlib.Path().joinpath('Images/'+repertoir).absolute())\n",
    "    x_train, x_test = train_test_split(tmp_data, test_size = 0.2)\n",
    "\n",
    "    for img1 in x_train:\n",
    "        nombre_image_train = nombre_image_train + 1\n",
    "        copyfile(pathlib.Path().joinpath('Images/'+repertoir+'/'+img1).absolute(), pathlib.Path().joinpath('train/'+repertoir+'/'+img1).absolute())\n",
    "\n",
    "    for img2 in x_test:\n",
    "        nombre_image_test = nombre_image_test + 1\n",
    "        copyfile(pathlib.Path().joinpath('Images/'+repertoir+'/'+img2).absolute(), pathlib.Path().joinpath('test/'+repertoir+'/'+img2).absolute())\n"
   ]
  },
  {
   "cell_type": "code",
   "execution_count": 13,
   "metadata": {},
   "outputs": [
    {
     "name": "stdout",
     "output_type": "stream",
     "text": [
      "1531\n",
      "388\n"
     ]
    }
   ],
   "source": [
    "print(nombre_image_train)\n",
    "print(nombre_image_test)"
   ]
  },
  {
   "cell_type": "code",
   "execution_count": 34,
   "metadata": {},
   "outputs": [],
   "source": [
    "nombre_image_train = 1531\n",
    "nombre_image_test = 388"
   ]
  },
  {
   "cell_type": "markdown",
   "metadata": {},
   "source": [
    "# Traitement des images"
   ]
  },
  {
   "cell_type": "markdown",
   "metadata": {},
   "source": [
    "## Resize"
   ]
  },
  {
   "cell_type": "code",
   "execution_count": 14,
   "metadata": {},
   "outputs": [
    {
     "data": {
      "application/vnd.jupyter.widget-view+json": {
       "model_id": "5f2bb7cd87c34ae7a8cab721c019a756",
       "version_major": 2,
       "version_minor": 0
      },
      "text/plain": [
       "HBox(children=(FloatProgress(value=0.0, max=1.0), HTML(value='')))"
      ]
     },
     "metadata": {},
     "output_type": "display_data"
    },
    {
     "name": "stdout",
     "output_type": "stream",
     "text": [
      "\n"
     ]
    },
    {
     "data": {
      "application/vnd.jupyter.widget-view+json": {
       "model_id": "3db68e1e4a7042a187e60420f8ab4943",
       "version_major": 2,
       "version_minor": 0
      },
      "text/plain": [
       "HBox(children=(FloatProgress(value=0.0, max=1.0), HTML(value='')))"
      ]
     },
     "metadata": {},
     "output_type": "display_data"
    },
    {
     "name": "stdout",
     "output_type": "stream",
     "text": [
      "\n"
     ]
    }
   ],
   "source": [
    "directory_train = 'test/' \n",
    "pbar = tqdm(total=1)\n",
    "for subdir, dirs, files in os.walk(directory_train):\n",
    "    for file in files:\n",
    "        img = os.path.join(subdir, file)\n",
    "        with open(img, 'r+b') as f:\n",
    "            with Image.open(f) as image:\n",
    "                if(image.size > (150,150,3)):\n",
    "                    cover = resizeimage.resize_cover(image, (150, 150))\n",
    "                    cover.save(img, image.format)\n",
    "                pbar.update(1/nombre_image_test)\n",
    "pbar.close()\n",
    "                \n",
    "directory_train = 'train/'  \n",
    "pbar = tqdm(total=1)\n",
    "for subdir, dirs, files in os.walk(directory_train):\n",
    "    for file in files:\n",
    "        img = os.path.join(subdir, file)\n",
    "        with open(img, 'r+b') as f:\n",
    "            with Image.open(f) as image:\n",
    "                if(image.size > (150,150,3)):\n",
    "                    cover = resizeimage.resize_cover(image, (150, 150))\n",
    "                    cover.save(img, image.format)\n",
    "                pbar.update(1/nombre_image_train)\n",
    "pbar.close()"
   ]
  },
  {
   "cell_type": "markdown",
   "metadata": {},
   "source": [
    "# Normalisation des images"
   ]
  },
  {
   "cell_type": "code",
   "execution_count": 15,
   "metadata": {},
   "outputs": [
    {
     "data": {
      "application/vnd.jupyter.widget-view+json": {
       "model_id": "3d27ac91512b41c79268eb7012afb0bb",
       "version_major": 2,
       "version_minor": 0
      },
      "text/plain": [
       "HBox(children=(FloatProgress(value=0.0, max=1.0), HTML(value='')))"
      ]
     },
     "metadata": {},
     "output_type": "display_data"
    },
    {
     "name": "stdout",
     "output_type": "stream",
     "text": [
      "\n"
     ]
    },
    {
     "data": {
      "application/vnd.jupyter.widget-view+json": {
       "model_id": "71ec07f1504d4550ab27136d0594c6eb",
       "version_major": 2,
       "version_minor": 0
      },
      "text/plain": [
       "HBox(children=(FloatProgress(value=0.0, max=1.0), HTML(value='')))"
      ]
     },
     "metadata": {},
     "output_type": "display_data"
    },
    {
     "name": "stdout",
     "output_type": "stream",
     "text": [
      "\n"
     ]
    }
   ],
   "source": [
    "directory_train = 'test/' \n",
    "pbar = tqdm(total=1)\n",
    "for subdir, dirs, files in os.walk(directory_train):\n",
    "    for file in files:\n",
    "        img = os.path.join(subdir, file)\n",
    "        image = cv2.imread(img,cv2.IMREAD_COLOR)\n",
    "        norm = cv2.normalize(image,None, alpha=0,beta=1, norm_type=cv2.NORM_MINMAX, dtype=cv2.CV_32F)\n",
    "\n",
    "        pbar.update(1/nombre_image_test)\n",
    "pbar.close()\n",
    "                \n",
    "directory_train = 'train/'  \n",
    "pbar = tqdm(total=1)\n",
    "for subdir, dirs, files in os.walk(directory_train):\n",
    "    for file in files:\n",
    "        img = os.path.join(subdir, file)\n",
    "        image = cv2.imread(img,cv2.IMREAD_COLOR)\n",
    "        norm = cv2.normalize(image,None, alpha=0,beta=1, norm_type=cv2.NORM_MINMAX, dtype=cv2.CV_32F)\n",
    "        \n",
    "        pbar.update(1/nombre_image_train)\n",
    "pbar.close()"
   ]
  },
  {
   "cell_type": "markdown",
   "metadata": {},
   "source": [
    "## Whitening"
   ]
  },
  {
   "cell_type": "code",
   "execution_count": 16,
   "metadata": {},
   "outputs": [
    {
     "data": {
      "application/vnd.jupyter.widget-view+json": {
       "model_id": "da75b6dc8b9c4147be8a061f7ad48d6c",
       "version_major": 2,
       "version_minor": 0
      },
      "text/plain": [
       "HBox(children=(FloatProgress(value=0.0, max=1.0), HTML(value='')))"
      ]
     },
     "metadata": {},
     "output_type": "display_data"
    },
    {
     "name": "stdout",
     "output_type": "stream",
     "text": [
      "\n"
     ]
    },
    {
     "data": {
      "application/vnd.jupyter.widget-view+json": {
       "model_id": "3bf976bfeb78447f8a140e7740f293ac",
       "version_major": 2,
       "version_minor": 0
      },
      "text/plain": [
       "HBox(children=(FloatProgress(value=0.0, max=1.0), HTML(value='')))"
      ]
     },
     "metadata": {},
     "output_type": "display_data"
    },
    {
     "name": "stdout",
     "output_type": "stream",
     "text": [
      "\n"
     ]
    }
   ],
   "source": [
    "def whitening(img):\n",
    "    image = PIL.Image.open(img)\n",
    "    foreground, background = whiten(image, kernel_size=20, downsample=4)\n",
    "    foreground.save(img, 'jpeg')\n",
    "                                    \n",
    "# image = plt.show('Images/n02085620-Chihuahua/'+tmp_data[0])\n",
    "# foreground, background = whiten(image, kernel_size=20, downsample=4)\n",
    "# foreground.save('foreground.jpg', 'jpeg')\n",
    "\n",
    "# On s'occupe des images dans train  \n",
    "directory_train = 'train/' \n",
    "pbar = tqdm(total=1)\n",
    "for subdir, dirs, files in os.walk(directory_train):\n",
    "    for file in files:\n",
    "        a = os.path.join(subdir, file)\n",
    "        whitening(a)\n",
    "        pbar.update(1/nombre_image_train)\n",
    "pbar.close()\n",
    "    \n",
    "# On s'occupe des images dans test\n",
    "directory_test= 'test/'\n",
    "pbar = tqdm(total=1)\n",
    "for subdir, dirs, files in os.walk(directory_test):\n",
    "    for file in files:\n",
    "        a = os.path.join(subdir, file)\n",
    "        whitening(a)\n",
    "        pbar.update(1/nombre_image_test)\n",
    "pbar.close()"
   ]
  },
  {
   "cell_type": "markdown",
   "metadata": {},
   "source": [
    "## Equalization"
   ]
  },
  {
   "cell_type": "code",
   "execution_count": 17,
   "metadata": {},
   "outputs": [
    {
     "data": {
      "application/vnd.jupyter.widget-view+json": {
       "model_id": "455b798e7c9a4846ab14df429fb6e026",
       "version_major": 2,
       "version_minor": 0
      },
      "text/plain": [
       "HBox(children=(FloatProgress(value=0.0, max=1.0), HTML(value='')))"
      ]
     },
     "metadata": {},
     "output_type": "display_data"
    },
    {
     "name": "stdout",
     "output_type": "stream",
     "text": [
      "\n"
     ]
    },
    {
     "data": {
      "application/vnd.jupyter.widget-view+json": {
       "model_id": "53e2f1586f604fa5b6cf799220232048",
       "version_major": 2,
       "version_minor": 0
      },
      "text/plain": [
       "HBox(children=(FloatProgress(value=0.0, max=1.0), HTML(value='')))"
      ]
     },
     "metadata": {},
     "output_type": "display_data"
    },
    {
     "name": "stdout",
     "output_type": "stream",
     "text": [
      "\n"
     ]
    }
   ],
   "source": [
    "def equalization(image):\n",
    "    img = cv2.imread(image)\n",
    "    img_to_yuv = cv2.cvtColor(img,cv2.COLOR_BGR2YUV)\n",
    "    img_to_yuv[:,:,0] = cv2.equalizeHist(img_to_yuv[:,:,0])\n",
    "    hist_equalization_result = cv2.cvtColor(img_to_yuv, cv2.COLOR_YUV2BGR)\n",
    "    cv2.imwrite(image,hist_equalization_result)\n",
    "    \n",
    "    \n",
    "directory_train = 'train/'\n",
    "pbar = tqdm(total=1)\n",
    "for subdir, dirs, files in os.walk(directory_train):\n",
    "    for file in files:\n",
    "        a = os.path.join(subdir, file)\n",
    "        equalization(a)\n",
    "        pbar.update(1/nombre_image_train)\n",
    "pbar.close()\n",
    "\n",
    "directory_train = 'test/'\n",
    "pbar = tqdm(total=1)\n",
    "for subdir, dirs, files in os.walk(directory_train):\n",
    "    for file in files:\n",
    "        a = os.path.join(subdir, file)\n",
    "        equalization(a)\n",
    "        pbar.update(1/nombre_image_test)\n",
    "pbar.close()"
   ]
  },
  {
   "cell_type": "markdown",
   "metadata": {},
   "source": [
    "# Augmention du train"
   ]
  },
  {
   "cell_type": "code",
   "execution_count": 18,
   "metadata": {},
   "outputs": [],
   "source": [
    "def reName(imgName, endString, idString):\n",
    "    index = imgName.find(endString)\n",
    "    if index != -1 :\n",
    "        newImageName = imgName[0:(index-1)]\n",
    "        newImageName = newImageName + idString + endString\n",
    "        return newImageName\n",
    "    else:\n",
    "        return imgName"
   ]
  },
  {
   "cell_type": "markdown",
   "metadata": {},
   "source": [
    "## Mirroring"
   ]
  },
  {
   "cell_type": "code",
   "execution_count": 19,
   "metadata": {},
   "outputs": [],
   "source": [
    "def mirror(img):\n",
    "    image = cv2.imread(img)\n",
    "    mirrorImage = cv2.flip(image, 1)\n",
    "    newImgName = reName(img, '.jpg', '_m')\n",
    "    mirrorImage = Image.fromarray(mirrorImage)\n",
    "    mirrorImage.save(newImgName , 'jpeg')"
   ]
  },
  {
   "cell_type": "markdown",
   "metadata": {},
   "source": [
    "## Cropping"
   ]
  },
  {
   "cell_type": "code",
   "execution_count": 20,
   "metadata": {},
   "outputs": [],
   "source": [
    "def zoom(img):\n",
    "    image = cv2.imread(img)\n",
    "    h, w = image.shape[:2]\n",
    "    zoomImg = image[h//8 : -h//8,w//8 : -w//8]\n",
    "    newImgName = reName(img, '.jpg', '_z')\n",
    "    zoomImg = Image.fromarray(zoomImg)\n",
    "    zoomImg.save(newImgName , 'jpeg')"
   ]
  },
  {
   "cell_type": "markdown",
   "metadata": {},
   "source": [
    "## Rotate"
   ]
  },
  {
   "cell_type": "code",
   "execution_count": 21,
   "metadata": {},
   "outputs": [],
   "source": [
    "def rotate(img):\n",
    "    value = randint(-90, 90)\n",
    "    image = Image.open(img)\n",
    "    image = image.rotate(value)\n",
    "    newImgName = reName(img, '.jpg', '_r')\n",
    "    image.save(newImgName , 'jpeg')"
   ]
  },
  {
   "cell_type": "code",
   "execution_count": 22,
   "metadata": {},
   "outputs": [
    {
     "data": {
      "application/vnd.jupyter.widget-view+json": {
       "model_id": "6d2623a6d2cc43b7a5c0a86a69949ce2",
       "version_major": 2,
       "version_minor": 0
      },
      "text/plain": [
       "HBox(children=(FloatProgress(value=0.0, max=1.0), HTML(value='')))"
      ]
     },
     "metadata": {},
     "output_type": "display_data"
    },
    {
     "name": "stdout",
     "output_type": "stream",
     "text": [
      "\n"
     ]
    }
   ],
   "source": [
    "# On s'occupe des images dans train    \n",
    "directory_train = 'train/' \n",
    "pbar = tqdm(total=1)\n",
    "for subdir, dirs, files in os.walk(directory_train):\n",
    "    for file in files:\n",
    "        if file.find('_r') != -1 or file.find('_z') != -1 or file.find('_m') != -1:\n",
    "            continue\n",
    "        else:\n",
    "            a = os.path.join(subdir, file)\n",
    "            rotate(a)\n",
    "            zoom(a)\n",
    "            mirror(a)\n",
    "            pbar.update(1/nombre_image_train)\n",
    "pbar.close()"
   ]
  },
  {
   "cell_type": "markdown",
   "metadata": {},
   "source": [
    "# test Normalization"
   ]
  },
  {
   "cell_type": "code",
   "execution_count": 89,
   "metadata": {},
   "outputs": [
    {
     "name": "stdout",
     "output_type": "stream",
     "text": [
      "[[[0.34552845 0.36991867 0.41463414]\n",
      "  [0.35365853 0.37804878 0.4227642 ]\n",
      "  [0.35365853 0.3902439  0.42682925]\n",
      "  ...\n",
      "  [0.13821137 0.14227642 0.18292682]\n",
      "  [0.13414633 0.13821137 0.17886178]\n",
      "  [0.13414633 0.13821137 0.17886178]]\n",
      "\n",
      " [[0.3617886  0.38617885 0.4308943 ]\n",
      "  [0.34552845 0.3821138  0.4227642 ]\n",
      "  [0.33739835 0.37398374 0.41463414]\n",
      "  ...\n",
      "  [0.1504065  0.15447155 0.19512194]\n",
      "  [0.14634146 0.1504065  0.1910569 ]\n",
      "  [0.14227642 0.14634146 0.18699187]]\n",
      "\n",
      " [[0.3495935  0.3821138  0.43495932]\n",
      "  [0.3617886  0.39837396 0.4390244 ]\n",
      "  [0.37398374 0.4105691  0.4512195 ]\n",
      "  ...\n",
      "  [0.1504065  0.15447155 0.19512194]\n",
      "  [0.14634146 0.1504065  0.1910569 ]\n",
      "  [0.14227642 0.14634146 0.18699187]]\n",
      "\n",
      " ...\n",
      "\n",
      " [[0.06910568 0.0406504  0.33739835]\n",
      "  [0.06504065 0.03658536 0.3333333 ]\n",
      "  [0.06504065 0.03658536 0.3414634 ]\n",
      "  ...\n",
      "  [0.07317073 0.03252032 0.3414634 ]\n",
      "  [0.07723577 0.03658536 0.34552845]\n",
      "  [0.08130081 0.0406504  0.3495935 ]]\n",
      "\n",
      " [[0.06910568 0.0406504  0.34552845]\n",
      "  [0.06910568 0.0406504  0.34552845]\n",
      "  [0.06910568 0.03658536 0.3495935 ]\n",
      "  ...\n",
      "  [0.06097561 0.0203252  0.32926828]\n",
      "  [0.05691057 0.01626016 0.32520324]\n",
      "  [0.04878049 0.00813008 0.31707317]]\n",
      "\n",
      " [[0.06910568 0.0406504  0.34552845]\n",
      "  [0.07723577 0.04878049 0.35365853]\n",
      "  [0.07317073 0.03658536 0.3617886 ]\n",
      "  ...\n",
      "  [0.04878049 0.00813008 0.31707317]\n",
      "  [0.04878049 0.00813008 0.31707317]\n",
      "  [0.04471545 0.00406504 0.31300813]]]\n"
     ]
    }
   ],
   "source": [
    "img = mpimg.imread(pathlib.Path().joinpath('Train\\\\Afghan_hound\\\\n02088094_1406.jpg').absolute())\n",
    "print(norm)"
   ]
  },
  {
   "cell_type": "markdown",
   "metadata": {},
   "source": [
    "# Recuperation du train et du set"
   ]
  },
  {
   "cell_type": "code",
   "execution_count": 7,
   "metadata": {},
   "outputs": [],
   "source": [
    "training_data = tf.keras.preprocessing.image.ImageDataGenerator(rescale=1./255)"
   ]
  },
  {
   "cell_type": "code",
   "execution_count": 8,
   "metadata": {},
   "outputs": [
    {
     "name": "stdout",
     "output_type": "stream",
     "text": [
      "Found 5749 images belonging to 10 classes.\n",
      "Found 388 images belonging to 10 classes.\n"
     ]
    }
   ],
   "source": [
    "train = training_data.flow_from_directory(\n",
    "    pathlib.Path().joinpath('Train').absolute(),\n",
    "    target_size=(150,150),\n",
    "    class_mode='categorical'\n",
    ")\n",
    "\n",
    "test = training_data.flow_from_directory(\n",
    "    pathlib.Path().joinpath('test').absolute(),\n",
    "    target_size=(150,150),\n",
    "    class_mode='categorical'\n",
    ")"
   ]
  },
  {
   "cell_type": "markdown",
   "metadata": {},
   "source": [
    "# Model"
   ]
  },
  {
   "cell_type": "code",
   "execution_count": 9,
   "metadata": {},
   "outputs": [],
   "source": [
    "model = tf.keras.models.Sequential([\n",
    "    tf.keras.layers.Conv2D(64, (3,3), activation='relu', input_shape=(150, 150, 3)),\n",
    "    tf.keras.layers.MaxPooling2D(2,2),\n",
    "    tf.keras.layers.Conv2D(64, (3,3), activation='relu'),\n",
    "    tf.keras.layers.MaxPooling2D(2,2),\n",
    "    tf.keras.layers.Conv2D(128, (3,3), activation='relu'),\n",
    "    tf.keras.layers.MaxPooling2D(2,2),\n",
    "    tf.keras.layers.Conv2D(128, (3,3), activation='relu'),\n",
    "    tf.keras.layers.MaxPooling2D(2,2),\n",
    "    \n",
    "    tf.keras.layers.Flatten(),\n",
    "    tf.keras.layers.Dropout(0.2),\n",
    "    \n",
    "    tf.keras.layers.Dense(700, activation='relu',kernel_regularizer=tf.keras.regularizers.l2(0.001)),\n",
    "    tf.keras.layers.Dropout(0.2),\n",
    "    tf.keras.layers.Dense(300, activation='relu',kernel_regularizer=tf.keras.regularizers.l2(0.001)),\n",
    "    tf.keras.layers.Dropout(0.2),\n",
    "    tf.keras.layers.Dense(10, activation='softmax')\n",
    "])"
   ]
  },
  {
   "cell_type": "code",
   "execution_count": 10,
   "metadata": {},
   "outputs": [],
   "source": [
    "model.compile(loss='categorical_crossentropy',\n",
    "             optimizer='adam',\n",
    "             metrics=['accuracy'])"
   ]
  },
  {
   "cell_type": "markdown",
   "metadata": {},
   "source": [
    "# Entrainement du model"
   ]
  },
  {
   "cell_type": "code",
   "execution_count": 11,
   "metadata": {
    "scrolled": true
   },
   "outputs": [
    {
     "name": "stdout",
     "output_type": "stream",
     "text": [
      "Epoch 1/40\n",
      "179/180 [============================>.] - ETA: 0s - loss: 2.6336 - accuracy: 0.1317\n",
      "Epoch: 0, accuracy:0.1315,  loss:2.6322,  val_accuracy:0.1442,  val_loss:2.3513,  \n",
      "180/180 [==============================] - 12s 66ms/step - loss: 2.6322 - accuracy: 0.1315 - val_loss: 2.3513 - val_accuracy: 0.1442\n",
      "Epoch 2/40\n",
      "180/180 [==============================] - 12s 66ms/step - loss: 2.2992 - accuracy: 0.1708 - val_loss: 2.2458 - val_accuracy: 0.1906\n",
      "Epoch 3/40\n",
      "180/180 [==============================] - 12s 64ms/step - loss: 2.2057 - accuracy: 0.2157 - val_loss: 2.1574 - val_accuracy: 0.2473\n",
      "Epoch 4/40\n",
      "180/180 [==============================] - 11s 62ms/step - loss: 2.1560 - accuracy: 0.2392 - val_loss: 2.1574 - val_accuracy: 0.2524\n",
      "Epoch 5/40\n",
      "180/180 [==============================] - 11s 62ms/step - loss: 2.1246 - accuracy: 0.2567 - val_loss: 2.0493 - val_accuracy: 0.2887\n",
      "Epoch 6/40\n",
      "180/180 [==============================] - 11s 62ms/step - loss: 2.0582 - accuracy: 0.2901 - val_loss: 2.0377 - val_accuracy: 0.2726\n",
      "Epoch 7/40\n",
      "180/180 [==============================] - 11s 62ms/step - loss: 2.0087 - accuracy: 0.3230 - val_loss: 1.8583 - val_accuracy: 0.3853\n",
      "Epoch 8/40\n",
      "180/180 [==============================] - 11s 63ms/step - loss: 1.9211 - accuracy: 0.3573 - val_loss: 1.8009 - val_accuracy: 0.4002\n",
      "Epoch 9/40\n",
      "180/180 [==============================] - 11s 63ms/step - loss: 1.8428 - accuracy: 0.3822 - val_loss: 1.6774 - val_accuracy: 0.4568\n",
      "Epoch 10/40\n",
      "180/180 [==============================] - 11s 64ms/step - loss: 1.7475 - accuracy: 0.4328 - val_loss: 1.5024 - val_accuracy: 0.5347\n",
      "Epoch 11/40\n",
      "180/180 [==============================] - 11s 62ms/step - loss: 1.6745 - accuracy: 0.4590 - val_loss: 1.4985 - val_accuracy: 0.5472\n",
      "Epoch 12/40\n",
      "180/180 [==============================] - 11s 62ms/step - loss: 1.5850 - accuracy: 0.4987 - val_loss: 1.3188 - val_accuracy: 0.6410\n",
      "Epoch 13/40\n",
      "180/180 [==============================] - 11s 64ms/step - loss: 1.5027 - accuracy: 0.5331 - val_loss: 1.1612 - val_accuracy: 0.6942\n",
      "Epoch 14/40\n",
      "180/180 [==============================] - 12s 64ms/step - loss: 1.4238 - accuracy: 0.5775 - val_loss: 1.0553 - val_accuracy: 0.7447\n",
      "Epoch 15/40\n",
      "180/180 [==============================] - 11s 63ms/step - loss: 1.3433 - accuracy: 0.6065 - val_loss: 0.9720 - val_accuracy: 0.7833\n",
      "Epoch 16/40\n",
      "180/180 [==============================] - 12s 65ms/step - loss: 1.2725 - accuracy: 0.6337 - val_loss: 0.8478 - val_accuracy: 0.8299\n",
      "Epoch 17/40\n",
      "180/180 [==============================] - 11s 62ms/step - loss: 1.1900 - accuracy: 0.6702 - val_loss: 0.8276 - val_accuracy: 0.8382\n",
      "Epoch 18/40\n",
      "180/180 [==============================] - 12s 64ms/step - loss: 1.1553 - accuracy: 0.6850 - val_loss: 0.7168 - val_accuracy: 0.8904\n",
      "Epoch 19/40\n",
      "180/180 [==============================] - 11s 63ms/step - loss: 1.1093 - accuracy: 0.7100 - val_loss: 0.6901 - val_accuracy: 0.9003\n",
      "Epoch 20/40\n",
      "180/180 [==============================] - 11s 61ms/step - loss: 1.0701 - accuracy: 0.7208 - val_loss: 0.6769 - val_accuracy: 0.8960\n",
      "Epoch 21/40\n",
      "180/180 [==============================] - 11s 63ms/step - loss: 1.0103 - accuracy: 0.7455 - val_loss: 0.5884 - val_accuracy: 0.9327\n",
      "Epoch 22/40\n",
      "180/180 [==============================] - 11s 62ms/step - loss: 0.9819 - accuracy: 0.7546 - val_loss: 0.5536 - val_accuracy: 0.9454\n",
      "Epoch 23/40\n",
      "180/180 [==============================] - 11s 62ms/step - loss: 0.9641 - accuracy: 0.7734 - val_loss: 0.5128 - val_accuracy: 0.9562\n",
      "Epoch 24/40\n",
      "180/180 [==============================] - 11s 61ms/step - loss: 0.9264 - accuracy: 0.7845 - val_loss: 0.5337 - val_accuracy: 0.9551\n",
      "Epoch 25/40\n",
      "180/180 [==============================] - 12s 64ms/step - loss: 0.9241 - accuracy: 0.7838 - val_loss: 0.4998 - val_accuracy: 0.9682\n",
      "Epoch 26/40\n",
      "180/180 [==============================] - 11s 61ms/step - loss: 0.8695 - accuracy: 0.8054 - val_loss: 0.5047 - val_accuracy: 0.9619\n",
      "Epoch 27/40\n",
      "180/180 [==============================] - 11s 62ms/step - loss: 0.8807 - accuracy: 0.8048 - val_loss: 0.4679 - val_accuracy: 0.9776\n",
      "Epoch 28/40\n",
      "180/180 [==============================] - 11s 61ms/step - loss: 0.8367 - accuracy: 0.8200 - val_loss: 0.4614 - val_accuracy: 0.9765\n",
      "Epoch 29/40\n",
      "180/180 [==============================] - 11s 63ms/step - loss: 0.8292 - accuracy: 0.8212 - val_loss: 0.5353 - val_accuracy: 0.9525\n",
      "Epoch 30/40\n",
      "180/180 [==============================] - 11s 64ms/step - loss: 0.8318 - accuracy: 0.8247 - val_loss: 0.4382 - val_accuracy: 0.9859\n",
      "Epoch 31/40\n",
      "180/180 [==============================] - 12s 64ms/step - loss: 0.8246 - accuracy: 0.8254 - val_loss: 0.4535 - val_accuracy: 0.9859\n",
      "Epoch 32/40\n",
      "180/180 [==============================] - 11s 63ms/step - loss: 0.8197 - accuracy: 0.8304 - val_loss: 0.4557 - val_accuracy: 0.9795\n",
      "Epoch 33/40\n",
      "180/180 [==============================] - 11s 63ms/step - loss: 0.7756 - accuracy: 0.8457 - val_loss: 0.4197 - val_accuracy: 0.9908\n",
      "Epoch 34/40\n",
      "180/180 [==============================] - 11s 62ms/step - loss: 0.7672 - accuracy: 0.8501 - val_loss: 0.4238 - val_accuracy: 0.9878\n",
      "Epoch 35/40\n",
      "180/180 [==============================] - 11s 63ms/step - loss: 0.7431 - accuracy: 0.8574 - val_loss: 0.4072 - val_accuracy: 0.9883\n",
      "Epoch 36/40\n",
      "180/180 [==============================] - 11s 62ms/step - loss: 0.7399 - accuracy: 0.8598 - val_loss: 0.4194 - val_accuracy: 0.9826\n",
      "Epoch 37/40\n",
      "180/180 [==============================] - 11s 62ms/step - loss: 0.7629 - accuracy: 0.8471 - val_loss: 0.4217 - val_accuracy: 0.9873\n",
      "Epoch 38/40\n",
      "180/180 [==============================] - 11s 62ms/step - loss: 0.7437 - accuracy: 0.8565 - val_loss: 0.4042 - val_accuracy: 0.9910\n",
      "Epoch 39/40\n",
      "180/180 [==============================] - 11s 62ms/step - loss: 0.7374 - accuracy: 0.8626 - val_loss: 0.3820 - val_accuracy: 0.9960\n",
      "Epoch 40/40\n",
      "180/180 [==============================] - 11s 62ms/step - loss: 0.7252 - accuracy: 0.8628 - val_loss: 0.3892 - val_accuracy: 0.9936\n"
     ]
    }
   ],
   "source": [
    "history = model.fit(train,\n",
    "                    epochs=40,\n",
    "                   validation_data=train, \n",
    "                    callbacks=[tf.keras.callbacks.EarlyStopping(monitor='val_loss', patience=10),\n",
    "                               tfdocs.modeling.EpochDots(),\n",
    "                               tf.keras.callbacks.ModelCheckpoint(\"weights.best.hdf5\", \n",
    "                                                                   monitor='val_accuracy', \n",
    "                                                                   verbose=0, \n",
    "                                                                   save_best_only=True, \n",
    "                                                                   save_weights_only=False, \n",
    "                                                                   mode='max', \n",
    "                                                                   periode=1)])"
   ]
  },
  {
   "cell_type": "markdown",
   "metadata": {},
   "source": [
    "# Sauvegarde du model"
   ]
  },
  {
   "cell_type": "code",
   "execution_count": 15,
   "metadata": {},
   "outputs": [],
   "source": [
    "model.save('snooky3.h5')"
   ]
  },
  {
   "cell_type": "markdown",
   "metadata": {},
   "source": [
    "# matrice de confusion"
   ]
  },
  {
   "cell_type": "code",
   "execution_count": 12,
   "metadata": {},
   "outputs": [],
   "source": [
    "from sklearn.metrics import confusion_matrix"
   ]
  },
  {
   "cell_type": "code",
   "execution_count": 13,
   "metadata": {},
   "outputs": [
    {
     "name": "stdout",
     "output_type": "stream",
     "text": [
      "WARNING:tensorflow:From <ipython-input-13-8a348b0c5df7>:1: Model.predict_generator (from tensorflow.python.keras.engine.training) is deprecated and will be removed in a future version.\n",
      "Instructions for updating:\n",
      "Please use Model.predict, which supports generators.\n"
     ]
    },
    {
     "data": {
      "text/plain": [
       "array([[10,  6,  4,  4,  7,  5,  4,  2,  5,  1],\n",
       "       [ 7,  4,  2,  2,  4,  1,  3,  5,  7,  3],\n",
       "       [ 2,  1,  5,  1, 10,  2,  2,  6,  1,  1],\n",
       "       [ 4,  3,  4,  4,  5,  2,  4,  5,  3,  3],\n",
       "       [ 5,  7,  8,  6,  7,  8,  1,  2,  4,  3],\n",
       "       [ 4,  3,  4,  3,  4,  0,  1,  2,  8,  1],\n",
       "       [ 5,  6,  4,  3,  0,  3,  3,  7,  3,  1],\n",
       "       [ 8,  7,  2,  5,  8,  1,  1,  5,  2,  4],\n",
       "       [ 5,  6,  1,  6,  7,  3,  3,  2,  5,  2],\n",
       "       [ 3,  6,  5,  1,  8,  4,  4,  3,  1,  0]], dtype=int64)"
      ]
     },
     "execution_count": 13,
     "metadata": {},
     "output_type": "execute_result"
    }
   ],
   "source": [
    "Y_pred = model.predict_generator(test)\n",
    "y_pred = np.argmax(Y_pred, axis=1)\n",
    "confusion_matrix(test.classes, y_pred)"
   ]
  },
  {
   "cell_type": "markdown",
   "metadata": {},
   "source": [
    "# Evaluation"
   ]
  },
  {
   "cell_type": "code",
   "execution_count": 14,
   "metadata": {},
   "outputs": [
    {
     "name": "stdout",
     "output_type": "stream",
     "text": [
      "13/13 [==============================] - 0s 23ms/step - loss: 2.8391 - accuracy: 0.4485\n"
     ]
    }
   ],
   "source": [
    "test_loss, test_acc = model.evaluate(test)"
   ]
  },
  {
   "cell_type": "markdown",
   "metadata": {},
   "source": [
    "# Load du  Model"
   ]
  },
  {
   "cell_type": "code",
   "execution_count": 80,
   "metadata": {},
   "outputs": [],
   "source": [
    "model = tf.keras.models.load_model('snooky.h5')"
   ]
  },
  {
   "cell_type": "markdown",
   "metadata": {},
   "source": [
    "# Courbe d'apprentissage"
   ]
  },
  {
   "cell_type": "code",
   "execution_count": 16,
   "metadata": {},
   "outputs": [
    {
     "data": {
      "image/png": "[encoded data removed]",
      "text/plain": [
       "<Figure size 432x288 with 1 Axes>"
      ]
     },
     "metadata": {
      "needs_background": "light"
     },
     "output_type": "display_data"
    },
    {
     "data": {
      "image/png": "[encoded data removed]",
      "text/plain": [
       "<Figure size 432x288 with 1 Axes>"
      ]
     },
     "metadata": {
      "needs_background": "light"
     },
     "output_type": "display_data"
    }
   ],
   "source": [
    "# summarize history for accuracy\n",
    "plt.plot(history.history['accuracy'], label=\"train\")\n",
    "plt.plot(history.history['val_accuracy'], label=\"test\")\n",
    "plt.title('model accuracy')\n",
    "plt.xlabel('epoch')\n",
    "plt.legend()\n",
    "plt.show()\n",
    "# summarize history for loss\n",
    "plt.plot(history.history['loss'], label=\"train\")\n",
    "plt.plot(history.history['val_loss'], label=\"test\")\n",
    "plt.title('model loss')\n",
    "plt.ylabel('loss')\n",
    "plt.xlabel('epoch')\n",
    "plt.legend()\n",
    "plt.show()"
   ]
  },
  {
   "cell_type": "markdown",
   "metadata": {},
   "source": [
    "# Prediction"
   ]
  },
  {
   "cell_type": "code",
   "execution_count": 17,
   "metadata": {},
   "outputs": [
    {
     "name": "stdout",
     "output_type": "stream",
     "text": [
      "Found 1 images belonging to 1 classes.\n"
     ]
    },
    {
     "data": {
      "text/plain": [
       "([<matplotlib.axis.XTick at 0x1d5f6a58520>,\n",
       "  <matplotlib.axis.XTick at 0x1d5f6a58460>,\n",
       "  <matplotlib.axis.XTick at 0x1d5f6a58190>,\n",
       "  <matplotlib.axis.XTick at 0x1d5f6a8ee20>,\n",
       "  <matplotlib.axis.XTick at 0x1d5f6a9b370>,\n",
       "  <matplotlib.axis.XTick at 0x1d5f6a9b8b0>,\n",
       "  <matplotlib.axis.XTick at 0x1d5f6a9bdc0>,\n",
       "  <matplotlib.axis.XTick at 0x1d5f6a9f310>,\n",
       "  <matplotlib.axis.XTick at 0x1d5f6a9f820>,\n",
       "  <matplotlib.axis.XTick at 0x1d5f6a9fd30>],\n",
       " [Text(0, 0, 'Afghan_hound'),\n",
       "  Text(0, 0, 'Blenheim_spaniel'),\n",
       "  Text(0, 0, 'Chihuahua'),\n",
       "  Text(0, 0, 'Japanese_spaniel'),\n",
       "  Text(0, 0, 'Maltese_dog'),\n",
       "  Text(0, 0, 'papillon'),\n",
       "  Text(0, 0, 'Pekinese'),\n",
       "  Text(0, 0, 'Rhodesian_ridgeback'),\n",
       "  Text(0, 0, 'Shih-Tzu'),\n",
       "  Text(0, 0, 'toy_terrier')])"
      ]
     },
     "execution_count": 17,
     "metadata": {},
     "output_type": "execute_result"
    },
    {
     "data": {
      "image/png": "[encoded data removed]",
      "text/plain": [
       "<Figure size 432x288 with 1 Axes>"
      ]
     },
     "metadata": {
      "needs_background": "light"
     },
     "output_type": "display_data"
    }
   ],
   "source": [
    "class_names =[ 'Afghan_hound', 'Blenheim_spaniel', 'Chihuahua', 'Japanese_spaniel', 'Maltese_dog', 'papillon', 'Pekinese', 'Rhodesian_ridgeback', 'Shih-Tzu',  'toy_terrier']\n",
    "\n",
    "            \n",
    "test_user = training_data.flow_from_directory(\n",
    "    pathlib.Path().joinpath('test_user').absolute(),\n",
    "    target_size=(150,150),\n",
    "    class_mode='categorical'\n",
    ")\n",
    "prediction = model.predict(test_user)\n",
    "\n",
    "plt.bar(range(10),prediction[0])\n",
    "plt.xticks(range(10), class_names, rotation=90)"
   ]
  },
  {
   "cell_type": "code",
   "execution_count": null,
   "metadata": {},
   "outputs": [],
   "source": []
  },
  {
   "cell_type": "code",
   "execution_count": null,
   "metadata": {},
   "outputs": [],
   "source": []
  }
 ],
 "metadata": {
  "kernelspec": {
   "display_name": "Python 3",
   "language": "python",
   "name": "python3"
  },
  "language_info": {
   "codemirror_mode": {
    "name": "ipython",
    "version": 3
   },
   "file_extension": ".py",
   "mimetype": "text/x-python",
   "name": "python",
   "nbconvert_exporter": "python",
   "pygments_lexer": "ipython3",
   "version": "3.8.3"
  }
 },
 "nbformat": 4,
 "nbformat_minor": 4
}
