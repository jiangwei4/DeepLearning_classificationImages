{
 "cells": [
  {
   "cell_type": "code",
   "execution_count": 36,
   "metadata": {},
   "outputs": [],
   "source": [
    "import numpy as np\n",
    "import matplotlib.pyplot as plt\n",
    "import pandas as pd\n",
    "import tensorflow as tf\n",
    "import pathlib\n",
    "import scipy.io as sio\n",
    "from os.path import dirname, join as pjoin\n",
    "import os\n",
    "from shutil import copyfile\n",
    "from sklearn.model_selection import train_test_split\n",
    "import imageio\n",
    "from PIL import Image\n",
    "from random import randint\n",
    "import scipy\n",
    "from sklearn.preprocessing import RobustScaler"
   ]
  },
  {
   "cell_type": "code",
   "execution_count": 37,
   "metadata": {},
   "outputs": [],
   "source": [
    "import tensorflow_docs as tfdocs\n",
    "import tensorflow_docs.plots\n",
    "import tensorflow_docs.modeling"
   ]
  },
  {
   "cell_type": "code",
   "execution_count": 38,
   "metadata": {},
   "outputs": [],
   "source": [
    "from whitening import whiten\n",
    "import matplotlib.image as mpimg\n",
    "import PIL.Image\n",
    "import cv2\n",
    "from skimage import io, color\n",
    "from resizeimage import resizeimage\n",
    "from tqdm.auto import tqdm"
   ]
  },
  {
   "cell_type": "code",
   "execution_count": 39,
   "metadata": {},
   "outputs": [
    {
     "name": "stdout",
     "output_type": "stream",
     "text": [
      "2.2.0\n"
     ]
    }
   ],
   "source": [
    "print(tf.__version__)"
   ]
  },
  {
   "cell_type": "code",
   "execution_count": 40,
   "metadata": {},
   "outputs": [
    {
     "name": "stdout",
     "output_type": "stream",
     "text": [
      "Num GPUs Available:  0\n",
      "WARNING:tensorflow:There are non-GPU devices in `tf.distribute.Strategy`, not using nccl allreduce.\n",
      "INFO:tensorflow:Using MirroredStrategy with devices ('/job:localhost/replica:0/task:0/device:CPU:0',)\n"
     ]
    }
   ],
   "source": [
    "print(\"Num GPUs Available: \", len(tf.config.experimental.list_physical_devices('GPU')))\n",
    "mirrored_strategy = tf.distribute.MirroredStrategy()"
   ]
  },
  {
   "cell_type": "code",
   "execution_count": 41,
   "metadata": {},
   "outputs": [],
   "source": [
    "nombre_image_train = 0\n",
    "nombre_image_test = 0"
   ]
  },
  {
   "cell_type": "markdown",
   "metadata": {},
   "source": [
    "# Creation des dossiers images du train et du set"
   ]
  },
  {
   "cell_type": "code",
   "execution_count": 42,
   "metadata": {},
   "outputs": [],
   "source": [
    "if not os.path.exists('train'):\n",
    "    os.makedirs('train')\n",
    "if not os.path.exists('test'):\n",
    "    os.makedirs('test')\n",
    "\n",
    "\n",
    "for repertoir in os.listdir('Images'):\n",
    "    if not os.path.exists('train/'+repertoir):\n",
    "        os.makedirs('train/'+repertoir)\n",
    "    if not os.path.exists('test/'+repertoir):\n",
    "        os.makedirs('test/'+repertoir)\n",
    "\n",
    "    tmp_data = os.listdir(pathlib.Path().joinpath('Images/'+repertoir).absolute())\n",
    "    x_train, x_test = train_test_split(tmp_data, test_size = 0.2)\n",
    "\n",
    "    for img1 in x_train:\n",
    "        nombre_image_train = nombre_image_train + 1\n",
    "        copyfile(pathlib.Path().joinpath('Images/'+repertoir+'/'+img1).absolute(), pathlib.Path().joinpath('train/'+repertoir+'/'+img1).absolute())\n",
    "\n",
    "    for img2 in x_test:\n",
    "        nombre_image_test = nombre_image_test + 1\n",
    "        copyfile(pathlib.Path().joinpath('Images/'+repertoir+'/'+img2).absolute(), pathlib.Path().joinpath('test/'+repertoir+'/'+img2).absolute())\n"
   ]
  },
  {
   "cell_type": "code",
   "execution_count": 43,
   "metadata": {},
   "outputs": [
    {
     "name": "stdout",
     "output_type": "stream",
     "text": [
      "1531\n",
      "388\n"
     ]
    }
   ],
   "source": [
    "print(nombre_image_train)\n",
    "print(nombre_image_test)"
   ]
  },
  {
   "cell_type": "code",
   "execution_count": 34,
   "metadata": {},
   "outputs": [],
   "source": [
    "nombre_image_train = 1531\n",
    "nombre_image_test = 388"
   ]
  },
  {
   "cell_type": "markdown",
   "metadata": {},
   "source": [
    "# Traitement des images"
   ]
  },
  {
   "cell_type": "markdown",
   "metadata": {},
   "source": [
    "## Resize"
   ]
  },
  {
   "cell_type": "code",
   "execution_count": 45,
   "metadata": {},
   "outputs": [
    {
     "data": {
      "application/vnd.jupyter.widget-view+json": {
       "model_id": "b621d6a31d8b4cdb8e8defbd32703f48",
       "version_major": 2,
       "version_minor": 0
      },
      "text/plain": [
       "HBox(children=(FloatProgress(value=0.0, max=1.0), HTML(value='')))"
      ]
     },
     "metadata": {},
     "output_type": "display_data"
    },
    {
     "name": "stdout",
     "output_type": "stream",
     "text": [
      "\n"
     ]
    },
    {
     "data": {
      "application/vnd.jupyter.widget-view+json": {
       "model_id": "885a3f0008c24fcf8906b993ac681dd0",
       "version_major": 2,
       "version_minor": 0
      },
      "text/plain": [
       "HBox(children=(FloatProgress(value=0.0, max=1.0), HTML(value='')))"
      ]
     },
     "metadata": {},
     "output_type": "display_data"
    },
    {
     "name": "stdout",
     "output_type": "stream",
     "text": [
      "\n"
     ]
    }
   ],
   "source": [
    "directory_train = 'test/' \n",
    "pbar = tqdm(total=1)\n",
    "for subdir, dirs, files in os.walk(directory_train):\n",
    "    for file in files:\n",
    "        img = os.path.join(subdir, file)\n",
    "        with open(img, 'r+b') as f:\n",
    "            with Image.open(f) as image:\n",
    "                if(image.size > (150,150,3)):\n",
    "                    cover = resizeimage.resize_cover(image, (150, 150))\n",
    "                    cover.save(img, image.format)\n",
    "                pbar.update(1/nombre_image_test)\n",
    "pbar.close()\n",
    "                \n",
    "directory_train = 'train/'  \n",
    "pbar = tqdm(total=1)\n",
    "for subdir, dirs, files in os.walk(directory_train):\n",
    "    for file in files:\n",
    "        img = os.path.join(subdir, file)\n",
    "        with open(img, 'r+b') as f:\n",
    "            with Image.open(f) as image:\n",
    "                if(image.size > (150,150,3)):\n",
    "                    cover = resizeimage.resize_cover(image, (150, 150))\n",
    "                    cover.save(img, image.format)\n",
    "                pbar.update(1/nombre_image_train)\n",
    "pbar.close()"
   ]
  },
  {
   "cell_type": "markdown",
   "metadata": {},
   "source": [
    "# Normalisation des images"
   ]
  },
  {
   "cell_type": "code",
   "execution_count": 66,
   "metadata": {},
   "outputs": [
    {
     "data": {
      "application/vnd.jupyter.widget-view+json": {
       "model_id": "49db093cb85b4934b877c536f5cba57a",
       "version_major": 2,
       "version_minor": 0
      },
      "text/plain": [
       "HBox(children=(FloatProgress(value=0.0, max=1.0), HTML(value='')))"
      ]
     },
     "metadata": {},
     "output_type": "display_data"
    },
    {
     "name": "stdout",
     "output_type": "stream",
     "text": [
      "\n"
     ]
    },
    {
     "data": {
      "application/vnd.jupyter.widget-view+json": {
       "model_id": "88ac72ee5e47477293cc4e943c5b0c1b",
       "version_major": 2,
       "version_minor": 0
      },
      "text/plain": [
       "HBox(children=(FloatProgress(value=0.0, max=1.0), HTML(value='')))"
      ]
     },
     "metadata": {},
     "output_type": "display_data"
    },
    {
     "name": "stdout",
     "output_type": "stream",
     "text": [
      "\n",
      "[[[0.34552845 0.36991867 0.41463414]\n",
      "  [0.35365853 0.37804878 0.4227642 ]\n",
      "  [0.35365853 0.3902439  0.42682925]\n",
      "  ...\n",
      "  [0.13821137 0.14227642 0.18292682]\n",
      "  [0.13414633 0.13821137 0.17886178]\n",
      "  [0.13414633 0.13821137 0.17886178]]\n",
      "\n",
      " [[0.3617886  0.38617885 0.4308943 ]\n",
      "  [0.34552845 0.3821138  0.4227642 ]\n",
      "  [0.33739835 0.37398374 0.41463414]\n",
      "  ...\n",
      "  [0.1504065  0.15447155 0.19512194]\n",
      "  [0.14634146 0.1504065  0.1910569 ]\n",
      "  [0.14227642 0.14634146 0.18699187]]\n",
      "\n",
      " [[0.3495935  0.3821138  0.43495932]\n",
      "  [0.3617886  0.39837396 0.4390244 ]\n",
      "  [0.37398374 0.4105691  0.4512195 ]\n",
      "  ...\n",
      "  [0.1504065  0.15447155 0.19512194]\n",
      "  [0.14634146 0.1504065  0.1910569 ]\n",
      "  [0.14227642 0.14634146 0.18699187]]\n",
      "\n",
      " ...\n",
      "\n",
      " [[0.06910568 0.0406504  0.33739835]\n",
      "  [0.06504065 0.03658536 0.3333333 ]\n",
      "  [0.06504065 0.03658536 0.3414634 ]\n",
      "  ...\n",
      "  [0.07317073 0.03252032 0.3414634 ]\n",
      "  [0.07723577 0.03658536 0.34552845]\n",
      "  [0.08130081 0.0406504  0.3495935 ]]\n",
      "\n",
      " [[0.06910568 0.0406504  0.34552845]\n",
      "  [0.06910568 0.0406504  0.34552845]\n",
      "  [0.06910568 0.03658536 0.3495935 ]\n",
      "  ...\n",
      "  [0.06097561 0.0203252  0.32926828]\n",
      "  [0.05691057 0.01626016 0.32520324]\n",
      "  [0.04878049 0.00813008 0.31707317]]\n",
      "\n",
      " [[0.06910568 0.0406504  0.34552845]\n",
      "  [0.07723577 0.04878049 0.35365853]\n",
      "  [0.07317073 0.03658536 0.3617886 ]\n",
      "  ...\n",
      "  [0.04878049 0.00813008 0.31707317]\n",
      "  [0.04878049 0.00813008 0.31707317]\n",
      "  [0.04471545 0.00406504 0.31300813]]]\n"
     ]
    }
   ],
   "source": [
    "directory_train = 'test/' \n",
    "pbar = tqdm(total=1)\n",
    "for subdir, dirs, files in os.walk(directory_train):\n",
    "    for file in files:\n",
    "        img = os.path.join(subdir, file)\n",
    "        image = cv2.imread(img,cv2.IMREAD_COLOR)\n",
    "        norm = cv2.normalize(image,None, alpha=0,beta=1, norm_type=cv2.NORM_MINMAX, dtype=cv2.CV_32F)\n",
    "\n",
    "        pbar.update(1/nombre_image_test)\n",
    "pbar.close()\n",
    "                \n",
    "directory_train = 'train/'  \n",
    "pbar = tqdm(total=1)\n",
    "for subdir, dirs, files in os.walk(directory_train):\n",
    "    for file in files:\n",
    "        img = os.path.join(subdir, file)\n",
    "        image = cv2.imread(img,cv2.IMREAD_COLOR)\n",
    "        norm = cv2.normalize(image,None, alpha=0,beta=1, norm_type=cv2.NORM_MINMAX, dtype=cv2.CV_32F)\n",
    "        \n",
    "        pbar.update(1/nombre_image_train)\n",
    "pbar.close()"
   ]
  },
  {
   "cell_type": "markdown",
   "metadata": {},
   "source": [
    "## Whitening"
   ]
  },
  {
   "cell_type": "code",
   "execution_count": 67,
   "metadata": {},
   "outputs": [
    {
     "data": {
      "application/vnd.jupyter.widget-view+json": {
       "model_id": "56a9cfa8ec61421fb55dd83a8b8c60ea",
       "version_major": 2,
       "version_minor": 0
      },
      "text/plain": [
       "HBox(children=(FloatProgress(value=0.0, max=1.0), HTML(value='')))"
      ]
     },
     "metadata": {},
     "output_type": "display_data"
    },
    {
     "name": "stdout",
     "output_type": "stream",
     "text": [
      "\n"
     ]
    },
    {
     "data": {
      "application/vnd.jupyter.widget-view+json": {
       "model_id": "d22ce3ac805a415f8531e148daefe616",
       "version_major": 2,
       "version_minor": 0
      },
      "text/plain": [
       "HBox(children=(FloatProgress(value=0.0, max=1.0), HTML(value='')))"
      ]
     },
     "metadata": {},
     "output_type": "display_data"
    },
    {
     "name": "stdout",
     "output_type": "stream",
     "text": [
      "\n"
     ]
    }
   ],
   "source": [
    "def whitening(img):\n",
    "    image = PIL.Image.open(img)\n",
    "    foreground, background = whiten(image, kernel_size=20, downsample=4)\n",
    "    foreground.save(img, 'jpeg')\n",
    "                                    \n",
    "# image = plt.show('Images/n02085620-Chihuahua/'+tmp_data[0])\n",
    "# foreground, background = whiten(image, kernel_size=20, downsample=4)\n",
    "# foreground.save('foreground.jpg', 'jpeg')\n",
    "\n",
    "# On s'occupe des images dans train  \n",
    "directory_train = 'train/' \n",
    "pbar = tqdm(total=1)\n",
    "for subdir, dirs, files in os.walk(directory_train):\n",
    "    for file in files:\n",
    "        a = os.path.join(subdir, file)\n",
    "        whitening(a)\n",
    "        pbar.update(1/nombre_image_train)\n",
    "pbar.close()\n",
    "    \n",
    "# On s'occupe des images dans test\n",
    "directory_test= 'test/'\n",
    "pbar = tqdm(total=1)\n",
    "for subdir, dirs, files in os.walk(directory_test):\n",
    "    for file in files:\n",
    "        a = os.path.join(subdir, file)\n",
    "        whitening(a)\n",
    "        pbar.update(1/nombre_image_test)\n",
    "pbar.close()"
   ]
  },
  {
   "cell_type": "markdown",
   "metadata": {},
   "source": [
    "## Equalization"
   ]
  },
  {
   "cell_type": "code",
   "execution_count": 68,
   "metadata": {},
   "outputs": [
    {
     "data": {
      "application/vnd.jupyter.widget-view+json": {
       "model_id": "14b05c3fc9c64321b3554708747af993",
       "version_major": 2,
       "version_minor": 0
      },
      "text/plain": [
       "HBox(children=(FloatProgress(value=0.0, max=1.0), HTML(value='')))"
      ]
     },
     "metadata": {},
     "output_type": "display_data"
    },
    {
     "name": "stdout",
     "output_type": "stream",
     "text": [
      "\n"
     ]
    },
    {
     "data": {
      "application/vnd.jupyter.widget-view+json": {
       "model_id": "29e4addc6d26466380a17fe898d9c0d8",
       "version_major": 2,
       "version_minor": 0
      },
      "text/plain": [
       "HBox(children=(FloatProgress(value=0.0, max=1.0), HTML(value='')))"
      ]
     },
     "metadata": {},
     "output_type": "display_data"
    },
    {
     "name": "stdout",
     "output_type": "stream",
     "text": [
      "\n"
     ]
    }
   ],
   "source": [
    "def equalization(image):\n",
    "    img = cv2.imread(image)\n",
    "    img_to_yuv = cv2.cvtColor(img,cv2.COLOR_BGR2YUV)\n",
    "    img_to_yuv[:,:,0] = cv2.equalizeHist(img_to_yuv[:,:,0])\n",
    "    hist_equalization_result = cv2.cvtColor(img_to_yuv, cv2.COLOR_YUV2BGR)\n",
    "    cv2.imwrite(image,hist_equalization_result)\n",
    "    \n",
    "    \n",
    "directory_train = 'train/'\n",
    "pbar = tqdm(total=1)\n",
    "for subdir, dirs, files in os.walk(directory_train):\n",
    "    for file in files:\n",
    "        a = os.path.join(subdir, file)\n",
    "        equalization(a)\n",
    "        pbar.update(1/nombre_image_train)\n",
    "pbar.close()\n",
    "\n",
    "directory_train = 'test/'\n",
    "pbar = tqdm(total=1)\n",
    "for subdir, dirs, files in os.walk(directory_train):\n",
    "    for file in files:\n",
    "        a = os.path.join(subdir, file)\n",
    "        equalization(a)\n",
    "        pbar.update(1/nombre_image_test)\n",
    "pbar.close()"
   ]
  },
  {
   "cell_type": "markdown",
   "metadata": {},
   "source": [
    "# Augmention du train"
   ]
  },
  {
   "cell_type": "code",
   "execution_count": 69,
   "metadata": {},
   "outputs": [],
   "source": [
    "def reName(imgName, endString, idString):\n",
    "    index = imgName.find(endString)\n",
    "    if index != -1 :\n",
    "        newImageName = imgName[0:(index-1)]\n",
    "        newImageName = newImageName + idString + endString\n",
    "        return newImageName\n",
    "    else:\n",
    "        return imgName"
   ]
  },
  {
   "cell_type": "markdown",
   "metadata": {},
   "source": [
    "## Mirroring"
   ]
  },
  {
   "cell_type": "code",
   "execution_count": 70,
   "metadata": {},
   "outputs": [],
   "source": [
    "def mirror(img):\n",
    "    image = cv2.imread(img)\n",
    "    mirrorImage = cv2.flip(image, 1)\n",
    "    newImgName = reName(img, '.jpg', '_m')\n",
    "    mirrorImage = Image.fromarray(mirrorImage)\n",
    "    mirrorImage.save(newImgName , 'jpeg')"
   ]
  },
  {
   "cell_type": "markdown",
   "metadata": {},
   "source": [
    "## Cropping"
   ]
  },
  {
   "cell_type": "code",
   "execution_count": 71,
   "metadata": {},
   "outputs": [],
   "source": [
    "def zoom(img):\n",
    "    image = cv2.imread(img)\n",
    "    h, w = image.shape[:2]\n",
    "    zoomImg = image[h//8 : -h//8,w//8 : -w//8]\n",
    "    newImgName = reName(img, '.jpg', '_z')\n",
    "    zoomImg = Image.fromarray(zoomImg)\n",
    "    zoomImg.save(newImgName , 'jpeg')"
   ]
  },
  {
   "cell_type": "markdown",
   "metadata": {},
   "source": [
    "## Rotate"
   ]
  },
  {
   "cell_type": "code",
   "execution_count": 72,
   "metadata": {},
   "outputs": [],
   "source": [
    "def rotate(img):\n",
    "    value = randint(-90, 90)\n",
    "    image = Image.open(img)\n",
    "    image = image.rotate(value)\n",
    "    newImgName = reName(img, '.jpg', '_r')\n",
    "    image.save(newImgName , 'jpeg')"
   ]
  },
  {
   "cell_type": "code",
   "execution_count": 73,
   "metadata": {},
   "outputs": [
    {
     "data": {
      "application/vnd.jupyter.widget-view+json": {
       "model_id": "9adbf6ad6aef49b0b55413a4bda3a3d6",
       "version_major": 2,
       "version_minor": 0
      },
      "text/plain": [
       "HBox(children=(FloatProgress(value=0.0, max=1.0), HTML(value='')))"
      ]
     },
     "metadata": {},
     "output_type": "display_data"
    },
    {
     "name": "stdout",
     "output_type": "stream",
     "text": [
      "\n"
     ]
    }
   ],
   "source": [
    "# On s'occupe des images dans train    \n",
    "directory_train = 'train/' \n",
    "pbar = tqdm(total=1)\n",
    "for subdir, dirs, files in os.walk(directory_train):\n",
    "    for file in files:\n",
    "        if file.find('_r') != -1 or file.find('_z') != -1 or file.find('_m') != -1:\n",
    "            continue\n",
    "        else:\n",
    "            a = os.path.join(subdir, file)\n",
    "            rotate(a)\n",
    "            zoom(a)\n",
    "            mirror(a)\n",
    "            pbar.update(1/nombre_image_train)\n",
    "pbar.close()"
   ]
  },
  {
   "cell_type": "code",
   "execution_count": null,
   "metadata": {},
   "outputs": [],
   "source": []
  },
  {
   "cell_type": "code",
   "execution_count": 74,
   "metadata": {},
   "outputs": [
    {
     "name": "stdout",
     "output_type": "stream",
     "text": [
      "[[[0.34552845 0.36991867 0.41463414]\n",
      "  [0.35365853 0.37804878 0.4227642 ]\n",
      "  [0.35365853 0.3902439  0.42682925]\n",
      "  ...\n",
      "  [0.13821137 0.14227642 0.18292682]\n",
      "  [0.13414633 0.13821137 0.17886178]\n",
      "  [0.13414633 0.13821137 0.17886178]]\n",
      "\n",
      " [[0.3617886  0.38617885 0.4308943 ]\n",
      "  [0.34552845 0.3821138  0.4227642 ]\n",
      "  [0.33739835 0.37398374 0.41463414]\n",
      "  ...\n",
      "  [0.1504065  0.15447155 0.19512194]\n",
      "  [0.14634146 0.1504065  0.1910569 ]\n",
      "  [0.14227642 0.14634146 0.18699187]]\n",
      "\n",
      " [[0.3495935  0.3821138  0.43495932]\n",
      "  [0.3617886  0.39837396 0.4390244 ]\n",
      "  [0.37398374 0.4105691  0.4512195 ]\n",
      "  ...\n",
      "  [0.1504065  0.15447155 0.19512194]\n",
      "  [0.14634146 0.1504065  0.1910569 ]\n",
      "  [0.14227642 0.14634146 0.18699187]]\n",
      "\n",
      " ...\n",
      "\n",
      " [[0.06910568 0.0406504  0.33739835]\n",
      "  [0.06504065 0.03658536 0.3333333 ]\n",
      "  [0.06504065 0.03658536 0.3414634 ]\n",
      "  ...\n",
      "  [0.07317073 0.03252032 0.3414634 ]\n",
      "  [0.07723577 0.03658536 0.34552845]\n",
      "  [0.08130081 0.0406504  0.3495935 ]]\n",
      "\n",
      " [[0.06910568 0.0406504  0.34552845]\n",
      "  [0.06910568 0.0406504  0.34552845]\n",
      "  [0.06910568 0.03658536 0.3495935 ]\n",
      "  ...\n",
      "  [0.06097561 0.0203252  0.32926828]\n",
      "  [0.05691057 0.01626016 0.32520324]\n",
      "  [0.04878049 0.00813008 0.31707317]]\n",
      "\n",
      " [[0.06910568 0.0406504  0.34552845]\n",
      "  [0.07723577 0.04878049 0.35365853]\n",
      "  [0.07317073 0.03658536 0.3617886 ]\n",
      "  ...\n",
      "  [0.04878049 0.00813008 0.31707317]\n",
      "  [0.04878049 0.00813008 0.31707317]\n",
      "  [0.04471545 0.00406504 0.31300813]]]\n"
     ]
    }
   ],
   "source": [
    "img = mpimg.imread(pathlib.Path().joinpath('Train\\\\Afghan_hound\\\\n02088094_1406.jpg').absolute())\n",
    "print(norm)"
   ]
  },
  {
   "cell_type": "markdown",
   "metadata": {},
   "source": [
    "# Recuperation du train et du set"
   ]
  },
  {
   "cell_type": "code",
   "execution_count": 75,
   "metadata": {},
   "outputs": [],
   "source": [
    "training_data = tf.keras.preprocessing.image.ImageDataGenerator(rescale=1./255)"
   ]
  },
  {
   "cell_type": "code",
   "execution_count": 76,
   "metadata": {},
   "outputs": [
    {
     "name": "stdout",
     "output_type": "stream",
     "text": [
      "Found 5764 images belonging to 10 classes.\n",
      "Found 388 images belonging to 10 classes.\n"
     ]
    }
   ],
   "source": [
    "train = training_data.flow_from_directory(\n",
    "    pathlib.Path().joinpath('Train').absolute(),\n",
    "    target_size=(150,150),\n",
    "    class_mode='categorical'\n",
    ")\n",
    "\n",
    "test = training_data.flow_from_directory(\n",
    "    pathlib.Path().joinpath('test').absolute(),\n",
    "    target_size=(150,150),\n",
    "    class_mode='categorical'\n",
    ")"
   ]
  },
  {
   "cell_type": "markdown",
   "metadata": {},
   "source": [
    "# Model"
   ]
  },
  {
   "cell_type": "code",
   "execution_count": 77,
   "metadata": {},
   "outputs": [],
   "source": [
    "model = tf.keras.models.Sequential([\n",
    "    tf.keras.layers.Conv2D(64, (3,3), activation='relu', input_shape=(150, 150, 3)),\n",
    "    tf.keras.layers.MaxPooling2D(2,2),\n",
    "    tf.keras.layers.Conv2D(64, (3,3), activation='relu'),\n",
    "    tf.keras.layers.MaxPooling2D(2,2),\n",
    "    tf.keras.layers.Conv2D(128, (3,3), activation='relu'),\n",
    "    tf.keras.layers.MaxPooling2D(2,2),\n",
    "    tf.keras.layers.Conv2D(128, (3,3), activation='relu'),\n",
    "    tf.keras.layers.MaxPooling2D(2,2),\n",
    "    \n",
    "    tf.keras.layers.Flatten(),\n",
    "    tf.keras.layers.Dropout(0.2),\n",
    "    \n",
    "    tf.keras.layers.Dense(700, activation='relu',kernel_regularizer=tf.keras.regularizers.l2(0.001)),\n",
    "    tf.keras.layers.Dropout(0.2),\n",
    "    tf.keras.layers.Dense(300, activation='relu',kernel_regularizer=tf.keras.regularizers.l2(0.001)),\n",
    "    tf.keras.layers.Dropout(0.2),\n",
    "    tf.keras.layers.Dense(10, activation='softmax')\n",
    "])"
   ]
  },
  {
   "cell_type": "code",
   "execution_count": 78,
   "metadata": {},
   "outputs": [],
   "source": [
    "model.compile(loss='categorical_crossentropy',\n",
    "             optimizer='adam',\n",
    "             metrics=['accuracy'])"
   ]
  },
  {
   "cell_type": "markdown",
   "metadata": {},
   "source": [
    "# Entrainement du model"
   ]
  },
  {
   "cell_type": "code",
   "execution_count": null,
   "metadata": {
    "scrolled": true
   },
   "outputs": [
    {
     "name": "stdout",
     "output_type": "stream",
     "text": [
      "Epoch 1/40\n",
      "  7/181 [>.............................] - ETA: 1:53 - loss: 3.8314 - accuracy: 0.1295"
     ]
    }
   ],
   "source": [
    "history = model.fit(train,\n",
    "                    epochs=40,\n",
    "                   validation_data=train, \n",
    "                    callbacks=[tf.keras.callbacks.EarlyStopping(monitor='val_loss', patience=10),\n",
    "                               tfdocs.modeling.EpochDots(),\n",
    "                               tf.keras.callbacks.ModelCheckpoint(\"weights.best.hdf5\", \n",
    "                                                                   monitor='val_accuracy', \n",
    "                                                                   verbose=0, \n",
    "                                                                   save_best_only=True, \n",
    "                                                                   save_weights_only=False, \n",
    "                                                                   mode='max', \n",
    "                                                                   periode=1)])"
   ]
  },
  {
   "cell_type": "markdown",
   "metadata": {},
   "source": [
    "# Sauvegarde du model"
   ]
  },
  {
   "cell_type": "code",
   "execution_count": 9,
   "metadata": {},
   "outputs": [],
   "source": [
    "model.save('snooky.h5')"
   ]
  },
  {
   "cell_type": "markdown",
   "metadata": {},
   "source": [
    "# matrice de confusion"
   ]
  },
  {
   "cell_type": "code",
   "execution_count": 11,
   "metadata": {},
   "outputs": [],
   "source": [
    "from sklearn.metrics import confusion_matrix"
   ]
  },
  {
   "cell_type": "code",
   "execution_count": 32,
   "metadata": {},
   "outputs": [
    {
     "name": "stdout",
     "output_type": "stream",
     "text": [
      "[0, 0, 0, 0, 0, 0, 0, 0, 0, 0, 0, 0, 0, 0, 0, 0, 0, 0, 0, 0, 0, 0, 0, 0, 0, 0, 0, 0, 0, 0, 0, 0, 0, 0, 0, 0, 0, 0, 0, 0, 0, 0, 0, 0, 0, 0, 0, 0, 1, 1, 1, 1, 1, 1, 1, 1, 1, 1, 1, 1, 1, 1, 1, 1, 1, 1, 1, 1, 1, 1, 1, 1, 1, 1, 1, 1, 1, 1, 1, 1, 1, 1, 1, 1, 1, 1, 2, 2, 2, 2, 2, 2, 2, 2, 2, 2, 2, 2, 2, 2, 2, 2, 2, 2, 2, 2, 2, 2, 2, 2, 2, 2, 2, 2, 2, 2, 2, 3, 3, 3, 3, 3, 3, 3, 3, 3, 3, 3, 3, 3, 3, 3, 3, 3, 3, 3, 3, 3, 3, 3, 3, 3, 3, 3, 3, 3, 3, 3, 3, 3, 3, 3, 3, 3, 4, 4, 4, 4, 4, 4, 4, 4, 4, 4, 4, 4, 4, 4, 4, 4, 4, 4, 4, 4, 4, 4, 4, 4, 4, 4, 4, 4, 4, 4, 4, 4, 4, 4, 4, 4, 4, 4, 4, 4, 4, 4, 4, 4, 4, 4, 4, 4, 4, 4, 4, 5, 5, 5, 5, 5, 5, 5, 5, 5, 5, 5, 5, 5, 5, 5, 5, 5, 5, 5, 5, 5, 5, 5, 5, 5, 5, 5, 5, 5, 5, 5, 5, 5, 5, 5, 5, 5, 5, 5, 5, 6, 6, 6, 6, 6, 6, 6, 6, 6, 6, 6, 6, 6, 6, 6, 6, 6, 6, 6, 6, 6, 6, 6, 6, 6, 6, 6, 6, 6, 6, 7, 7, 7, 7, 7, 7, 7, 7, 7, 7, 7, 7, 7, 7, 7, 7, 7, 7, 7, 7, 7, 7, 7, 7, 7, 7, 7, 7, 7, 7, 7, 7, 7, 7, 7, 8, 8, 8, 8, 8, 8, 8, 8, 8, 8, 8, 8, 8, 8, 8, 8, 8, 8, 8, 8, 8, 8, 8, 8, 8, 8, 8, 8, 8, 8, 8, 8, 8, 8, 8, 8, 8, 8, 8, 8, 8, 8, 8, 9, 9, 9, 9, 9, 9, 9, 9, 9, 9, 9, 9, 9, 9, 9, 9, 9, 9, 9, 9, 9, 9, 9, 9, 9, 9, 9, 9, 9, 9, 9, 9, 9, 9, 9]\n"
     ]
    },
    {
     "ename": "ValueError",
     "evalue": "Classification metrics can't handle a mix of multiclass and continuous-multioutput targets",
     "output_type": "error",
     "traceback": [
      "\u001b[1;31m---------------------------------------------------------------------------\u001b[0m",
      "\u001b[1;31mValueError\u001b[0m                                Traceback (most recent call last)",
      "\u001b[1;32m<ipython-input-32-29e1a0980512>\u001b[0m in \u001b[0;36m<module>\u001b[1;34m\u001b[0m\n\u001b[0;32m     11\u001b[0m \u001b[0mz\u001b[0m \u001b[1;33m=\u001b[0m\u001b[0me\u001b[0m\u001b[1;33m+\u001b[0m\u001b[0mf\u001b[0m\u001b[1;33m+\u001b[0m\u001b[0mg\u001b[0m\u001b[1;33m+\u001b[0m\u001b[0mh\u001b[0m\u001b[1;33m+\u001b[0m\u001b[0mi\u001b[0m\u001b[1;33m+\u001b[0m\u001b[0mj\u001b[0m\u001b[1;33m+\u001b[0m\u001b[0mk\u001b[0m\u001b[1;33m+\u001b[0m\u001b[0ml\u001b[0m\u001b[1;33m+\u001b[0m\u001b[0mm\u001b[0m\u001b[1;33m+\u001b[0m\u001b[0mn\u001b[0m\u001b[1;33m\u001b[0m\u001b[1;33m\u001b[0m\u001b[0m\n\u001b[0;32m     12\u001b[0m \u001b[0mprint\u001b[0m\u001b[1;33m(\u001b[0m\u001b[0mz\u001b[0m\u001b[1;33m)\u001b[0m\u001b[1;33m\u001b[0m\u001b[1;33m\u001b[0m\u001b[0m\n\u001b[1;32m---> 13\u001b[1;33m \u001b[0mconfusion_matrix\u001b[0m\u001b[1;33m(\u001b[0m \u001b[0mz\u001b[0m\u001b[1;33m,\u001b[0m\u001b[0mmodel\u001b[0m\u001b[1;33m.\u001b[0m\u001b[0mpredict\u001b[0m\u001b[1;33m(\u001b[0m\u001b[0mtest\u001b[0m\u001b[1;33m)\u001b[0m\u001b[1;33m)\u001b[0m\u001b[1;33m\u001b[0m\u001b[1;33m\u001b[0m\u001b[0m\n\u001b[0m",
      "\u001b[1;32m~\\AppData\\Local\\Programs\\Python\\Python38\\lib\\site-packages\\sklearn\\utils\\validation.py\u001b[0m in \u001b[0;36minner_f\u001b[1;34m(*args, **kwargs)\u001b[0m\n\u001b[0;32m     71\u001b[0m                           FutureWarning)\n\u001b[0;32m     72\u001b[0m         \u001b[0mkwargs\u001b[0m\u001b[1;33m.\u001b[0m\u001b[0mupdate\u001b[0m\u001b[1;33m(\u001b[0m\u001b[1;33m{\u001b[0m\u001b[0mk\u001b[0m\u001b[1;33m:\u001b[0m \u001b[0marg\u001b[0m \u001b[1;32mfor\u001b[0m \u001b[0mk\u001b[0m\u001b[1;33m,\u001b[0m \u001b[0marg\u001b[0m \u001b[1;32min\u001b[0m \u001b[0mzip\u001b[0m\u001b[1;33m(\u001b[0m\u001b[0msig\u001b[0m\u001b[1;33m.\u001b[0m\u001b[0mparameters\u001b[0m\u001b[1;33m,\u001b[0m \u001b[0margs\u001b[0m\u001b[1;33m)\u001b[0m\u001b[1;33m}\u001b[0m\u001b[1;33m)\u001b[0m\u001b[1;33m\u001b[0m\u001b[1;33m\u001b[0m\u001b[0m\n\u001b[1;32m---> 73\u001b[1;33m         \u001b[1;32mreturn\u001b[0m \u001b[0mf\u001b[0m\u001b[1;33m(\u001b[0m\u001b[1;33m**\u001b[0m\u001b[0mkwargs\u001b[0m\u001b[1;33m)\u001b[0m\u001b[1;33m\u001b[0m\u001b[1;33m\u001b[0m\u001b[0m\n\u001b[0m\u001b[0;32m     74\u001b[0m     \u001b[1;32mreturn\u001b[0m \u001b[0minner_f\u001b[0m\u001b[1;33m\u001b[0m\u001b[1;33m\u001b[0m\u001b[0m\n\u001b[0;32m     75\u001b[0m \u001b[1;33m\u001b[0m\u001b[0m\n",
      "\u001b[1;32m~\\AppData\\Local\\Programs\\Python\\Python38\\lib\\site-packages\\sklearn\\metrics\\_classification.py\u001b[0m in \u001b[0;36mconfusion_matrix\u001b[1;34m(y_true, y_pred, labels, sample_weight, normalize)\u001b[0m\n\u001b[0;32m    274\u001b[0m \u001b[1;33m\u001b[0m\u001b[0m\n\u001b[0;32m    275\u001b[0m     \"\"\"\n\u001b[1;32m--> 276\u001b[1;33m     \u001b[0my_type\u001b[0m\u001b[1;33m,\u001b[0m \u001b[0my_true\u001b[0m\u001b[1;33m,\u001b[0m \u001b[0my_pred\u001b[0m \u001b[1;33m=\u001b[0m \u001b[0m_check_targets\u001b[0m\u001b[1;33m(\u001b[0m\u001b[0my_true\u001b[0m\u001b[1;33m,\u001b[0m \u001b[0my_pred\u001b[0m\u001b[1;33m)\u001b[0m\u001b[1;33m\u001b[0m\u001b[1;33m\u001b[0m\u001b[0m\n\u001b[0m\u001b[0;32m    277\u001b[0m     \u001b[1;32mif\u001b[0m \u001b[0my_type\u001b[0m \u001b[1;32mnot\u001b[0m \u001b[1;32min\u001b[0m \u001b[1;33m(\u001b[0m\u001b[1;34m\"binary\"\u001b[0m\u001b[1;33m,\u001b[0m \u001b[1;34m\"multiclass\"\u001b[0m\u001b[1;33m)\u001b[0m\u001b[1;33m:\u001b[0m\u001b[1;33m\u001b[0m\u001b[1;33m\u001b[0m\u001b[0m\n\u001b[0;32m    278\u001b[0m         \u001b[1;32mraise\u001b[0m \u001b[0mValueError\u001b[0m\u001b[1;33m(\u001b[0m\u001b[1;34m\"%s is not supported\"\u001b[0m \u001b[1;33m%\u001b[0m \u001b[0my_type\u001b[0m\u001b[1;33m)\u001b[0m\u001b[1;33m\u001b[0m\u001b[1;33m\u001b[0m\u001b[0m\n",
      "\u001b[1;32m~\\AppData\\Local\\Programs\\Python\\Python38\\lib\\site-packages\\sklearn\\metrics\\_classification.py\u001b[0m in \u001b[0;36m_check_targets\u001b[1;34m(y_true, y_pred)\u001b[0m\n\u001b[0;32m     88\u001b[0m \u001b[1;33m\u001b[0m\u001b[0m\n\u001b[0;32m     89\u001b[0m     \u001b[1;32mif\u001b[0m \u001b[0mlen\u001b[0m\u001b[1;33m(\u001b[0m\u001b[0my_type\u001b[0m\u001b[1;33m)\u001b[0m \u001b[1;33m>\u001b[0m \u001b[1;36m1\u001b[0m\u001b[1;33m:\u001b[0m\u001b[1;33m\u001b[0m\u001b[1;33m\u001b[0m\u001b[0m\n\u001b[1;32m---> 90\u001b[1;33m         raise ValueError(\"Classification metrics can't handle a mix of {0} \"\n\u001b[0m\u001b[0;32m     91\u001b[0m                          \"and {1} targets\".format(type_true, type_pred))\n\u001b[0;32m     92\u001b[0m \u001b[1;33m\u001b[0m\u001b[0m\n",
      "\u001b[1;31mValueError\u001b[0m: Classification metrics can't handle a mix of multiclass and continuous-multioutput targets"
     ]
    }
   ],
   "source": [
    "\n",
    "e = [0 for x in range(0,48)]\n",
    "f = [1 for x in range(0,38)]\n",
    "g = [2 for x in range(0,31)]\n",
    "h = [3 for x in range(0,37)]\n",
    "i = [4 for x in range(0,51)]\n",
    "j = [5 for x in range(0,40)]\n",
    "k = [6 for x in range(0,30)]\n",
    "l = [7 for x in range(0,35)]\n",
    "m = [8 for x in range(0,43)]\n",
    "n = [9 for x in range(0,35)]\n",
    "z =e+f+g+h+i+j+k+l+m+n\n",
    "print(z)\n",
    "confusion_matrix( z,model.predict(test))"
   ]
  },
  {
   "cell_type": "markdown",
   "metadata": {},
   "source": [
    "# Evaluation"
   ]
  },
  {
   "cell_type": "code",
   "execution_count": 8,
   "metadata": {},
   "outputs": [
    {
     "name": "stdout",
     "output_type": "stream",
     "text": [
      "13/13 [==============================] - 2s 147ms/step - loss: 3.1544 - accuracy: 0.3686\n"
     ]
    }
   ],
   "source": [
    "test_loss, test_acc = model.evaluate(test)"
   ]
  },
  {
   "cell_type": "markdown",
   "metadata": {},
   "source": [
    "# Load du  Model"
   ]
  },
  {
   "cell_type": "code",
   "execution_count": 4,
   "metadata": {},
   "outputs": [],
   "source": [
    "model = tf.keras.models.load_model('snooky.h5')"
   ]
  },
  {
   "cell_type": "markdown",
   "metadata": {},
   "source": [
    "# Courbe d'apprentissage"
   ]
  },
  {
   "cell_type": "code",
   "execution_count": 11,
   "metadata": {},
   "outputs": [
    {
     "data": {
      "image/png": "[encoded data removed]",
      "text/plain": [
       "<Figure size 432x288 with 1 Axes>"
      ]
     },
     "metadata": {
      "needs_background": "light"
     },
     "output_type": "display_data"
    },
    {
     "data": {
      "image/png": "[encoded data removed]",
      "text/plain": [
       "<Figure size 432x288 with 1 Axes>"
      ]
     },
     "metadata": {
      "needs_background": "light"
     },
     "output_type": "display_data"
    }
   ],
   "source": [
    "# summarize history for accuracy\n",
    "plt.plot(history.history['accuracy'], label=\"train\")\n",
    "plt.plot(history.history['val_accuracy'], label=\"test\")\n",
    "plt.title('model accuracy')\n",
    "plt.xlabel('epoch')\n",
    "plt.legend()\n",
    "plt.show()\n",
    "# summarize history for loss\n",
    "plt.plot(history.history['loss'], label=\"train\")\n",
    "plt.plot(history.history['val_loss'], label=\"test\")\n",
    "plt.title('model loss')\n",
    "plt.ylabel('loss')\n",
    "plt.xlabel('epoch')\n",
    "plt.legend()\n",
    "plt.show()"
   ]
  },
  {
   "cell_type": "markdown",
   "metadata": {},
   "source": [
    "# Prediction"
   ]
  },
  {
   "cell_type": "code",
   "execution_count": 12,
   "metadata": {},
   "outputs": [
    {
     "name": "stdout",
     "output_type": "stream",
     "text": [
      "Found 1 images belonging to 1 classes.\n"
     ]
    },
    {
     "data": {
      "text/plain": [
       "([<matplotlib.axis.XTick at 0x1dcbcd7df70>,\n",
       "  <matplotlib.axis.XTick at 0x1dcbcd7df40>,\n",
       "  <matplotlib.axis.XTick at 0x1dcbcd7d610>,\n",
       "  <matplotlib.axis.XTick at 0x1dcbcdbb3a0>,\n",
       "  <matplotlib.axis.XTick at 0x1dcbcdbb8b0>,\n",
       "  <matplotlib.axis.XTick at 0x1dcbcdbbdf0>,\n",
       "  <matplotlib.axis.XTick at 0x1dcbcdc3340>,\n",
       "  <matplotlib.axis.XTick at 0x1dcbcdc3850>,\n",
       "  <matplotlib.axis.XTick at 0x1dcbcdc3d60>,\n",
       "  <matplotlib.axis.XTick at 0x1dcbcdbb5b0>],\n",
       " [Text(0, 0, 'Afghan_hound'),\n",
       "  Text(0, 0, 'Blenheim_spaniel'),\n",
       "  Text(0, 0, 'Chihuahua'),\n",
       "  Text(0, 0, 'Japanese_spaniel'),\n",
       "  Text(0, 0, 'Maltese_dog'),\n",
       "  Text(0, 0, 'papillon'),\n",
       "  Text(0, 0, 'Pekinese'),\n",
       "  Text(0, 0, 'Rhodesian_ridgeback'),\n",
       "  Text(0, 0, 'Shih-Tzu'),\n",
       "  Text(0, 0, 'toy_terrier')])"
      ]
     },
     "execution_count": 12,
     "metadata": {},
     "output_type": "execute_result"
    },
    {
     "data": {
      "image/png": "[encoded data removed]",
      "text/plain": [
       "<Figure size 432x288 with 1 Axes>"
      ]
     },
     "metadata": {
      "needs_background": "light"
     },
     "output_type": "display_data"
    }
   ],
   "source": [
    "class_names =[ 'Afghan_hound', 'Blenheim_spaniel', 'Chihuahua', 'Japanese_spaniel', 'Maltese_dog', 'papillon', 'Pekinese', 'Rhodesian_ridgeback', 'Shih-Tzu',  'toy_terrier']\n",
    "\n",
    "            \n",
    "test_user = training_data.flow_from_directory(\n",
    "    pathlib.Path().joinpath('test_user').absolute(),\n",
    "    target_size=(150,150),\n",
    "    class_mode='categorical'\n",
    ")\n",
    "prediction = model.predict(test_user)\n",
    "\n",
    "plt.bar(range(10),prediction[0])\n",
    "plt.xticks(range(10), class_names, rotation=90)"
   ]
  },
  {
   "cell_type": "code",
   "execution_count": null,
   "metadata": {},
   "outputs": [],
   "source": []
  }
 ],
 "metadata": {
  "kernelspec": {
   "display_name": "Python 3",
   "language": "python",
   "name": "python3"
  },
  "language_info": {
   "codemirror_mode": {
    "name": "ipython",
    "version": 3
   },
   "file_extension": ".py",
   "mimetype": "text/x-python",
   "name": "python",
   "nbconvert_exporter": "python",
   "pygments_lexer": "ipython3",
   "version": "3.8.3"
  }
 },
 "nbformat": 4,
 "nbformat_minor": 4
}
